{
  "nbformat": 4,
  "nbformat_minor": 0,
  "metadata": {
    "colab": {
      "name": "MIB2021-lab05-06",
      "provenance": [],
      "collapsed_sections": [],
      "toc_visible": true,
      "include_colab_link": true
    },
    "kernelspec": {
      "name": "python3",
      "display_name": "Python 3"
    }
  },
  "cells": [
    {
      "cell_type": "markdown",
      "metadata": {
        "id": "view-in-github",
        "colab_type": "text"
      },
      "source": [
        "<a href=\"https://colab.research.google.com/github/umihai31/AgeProjectC-/blob/master/MIB2021_lab05_06.ipynb\" target=\"_parent\"><img src=\"https://colab.research.google.com/assets/colab-badge.svg\" alt=\"Open In Colab\"/></a>"
      ]
    },
    {
      "cell_type": "markdown",
      "metadata": {
        "id": "4R4jpwTmkri1"
      },
      "source": [
        "# Laborator 05-06\n",
        "\n",
        "În laboratorul trecut am observat cum rezultatul metodelor hill climbing depinde foarte mult de punctul de pornire și de parametrizare. Un alt algoritm stohastic, ce poate oferi o mai bună balanță între explorare și exploatare și o independență în cea ce privește punctul de start este inspirat din călirea metalurgică. Încălzirea urmată de răcirea controlată a unui material rezultă în creșterea dimensiunii cristalelor și reduce defectele structurale.\n",
        "\n",
        "\n",
        "![](https://image.slidesharecdn.com/f-annealing-131118222251-phpapp02/95/annealing-39-638.jpg?cb=1384813935)\n",
        "\n",
        "Fig. 1. Exemplificarea procesului de cristalizare prin călire. [Sursa imaginii](https://www.slideshare.net/RakeshSingh125/f-annealing). \n",
        "\n",
        "\n",
        "Inițial, prin creșterea temperaturii, [căldura dislocă atomii](https://www.sciencelearn.org.nz/resources/750-heat-energy) din poziţiile fixe (minim local) şi permite acestora să [viziteze aleatoriu stări cu energie mai ridicată](https://www.youtube.com/watch?v=qW59Y9lJso8). Apoi, o răcire graduală și lentă acordă timp și implicit mai multe şanse atomilor dislocați să găsească o configuraţie mai bună, cu o energie internă mai mică decât cea iniţială.\n",
        "\n",
        "\n",
        "## Călirea simulată\n",
        "\n",
        "Călirea simulată, denumit în engleză [Simulated Annealing](https://en.wikipedia.org/wiki/Simulated_annealing), este o metodă stocastică pentru aproximarea optimului global al unei funcții, ce permite la fiecare pas trecerea într-o stare inferioară (soluție mai slabă calitativ) cu o probabilitate direct proporțională cu \"temperatura\" (simulată) actuală (linia 13, pseudocod fig. 2). \n",
        "\n",
        "Metoda pornește cu o temperatură inițială ridicată și tinde în timp la 0, conform unui program de răcire (o funcție monoton descrescătoare, `calculate_tempereature(i)` - linia 7, pseudocod fig. 2).). Astfel la început, probabilitatea acceptării a unor stări inferioare este foarte mare, algoritmul poate ușor ieși din vecinătatea unui optim local. În această fază metoda probează spațiul de căutare în mod aleatoriu, traiectoria descrisă este haotică ([random walk](https://www.mit.edu/~kardar/teaching/projects/chemotaxis(AndreaSchmidt)/random.htm)), explorarea este maximă. Scăderea graduală a temperaturii induce o focusare din ce în ce mai pronunțată spre îmbunătățire, o trecere graduală de la explorare accentuată spre exploatare accentuată. În această fază comportamentul metodei se aseamănă cu [coborârea cu gradient stocastic](https://arxiv.org/abs/1609.04747) ([stochastic gradient descent](https://en.wikipedia.org/wiki/Stochastic_gradient_descent)). În final, la temperaturi scăzute, probabilitatea acceptării unei soluții inferioare devine minusculă (dar nu 0, imposibilă), metoda este axată pe exploatare.\n",
        "\n",
        "![](https://d3i71xaburhd42.cloudfront.net/9f01f2a70d64f2abbbf8d8a75d340a7f27586a25/8-Figure3-1.png)\n",
        "\n",
        "Fig. 2. Pseudocod pentru metoda călirii simulate. [Sursa imaginii](https://link.springer.com/article/10.1007/s00500-016-2067-4).\n",
        "\n",
        "Cu un program de răcire suficient de lung (teoretic infinit) și lent (cu suficiente iterații la fiecare nivel de temperatură), algoritmul garantează găsirea optimului global, din păcate într-un număr exponențial de pași în raport cu dimensiunea problemei\n",
        "\n",
        "Pentru obținerea unor rezultate bune, în practică trebuie bine echilibrată tranziția de la explorare spre exploatare. În cazul unei funcții obiectiv extrem de multimodal, folosirea unui program de răcire prea agresiv poate duce la o \"înghețare\" prematură, blocare într-un minim local. Utilizarea unui program de răcire mai lent scade probabilitatea convergenței premature într-un minim local, însă ea necesită cerințe de calcul crescute.\n"
      ]
    },
    {
      "cell_type": "markdown",
      "metadata": {
        "id": "zjEPjhyIClJz"
      },
      "source": [
        "# Exemplu optimizare\n",
        "\n",
        "Considerăm problema [comis-voiajorului](https://ro.wikipedia.org/wiki/Problema_comis-voiajorului) pentru cele mai mari 20 de orașe din SUA, folosind o [implementație a metodei în Python](https://github.com/perrygeo/simanneal)."
      ]
    },
    {
      "cell_type": "code",
      "metadata": {
        "colab": {
          "base_uri": "https://localhost:8080/"
        },
        "id": "n1sdsfjtEe_L",
        "outputId": "b6e3dd07-bac3-4dde-e4c4-ac67f7be637d"
      },
      "source": [
        "!pip install simanneal"
      ],
      "execution_count": null,
      "outputs": [
        {
          "output_type": "stream",
          "text": [
            "Collecting simanneal\n",
            "  Downloading https://files.pythonhosted.org/packages/8b/cd/1b1f58a8e3fc041e352fb0ac2e4018f8f5be1f5fdde9996f157f0eb6d3cf/simanneal-0.5.0-py2.py3-none-any.whl\n",
            "Installing collected packages: simanneal\n",
            "Successfully installed simanneal-0.5.0\n"
          ],
          "name": "stdout"
        }
      ]
    },
    {
      "cell_type": "code",
      "metadata": {
        "id": "MluzjZRsEhKU"
      },
      "source": [
        "from simanneal import Annealer\n",
        "import math"
      ],
      "execution_count": null,
      "outputs": []
    },
    {
      "cell_type": "code",
      "metadata": {
        "id": "Ey-L-OphFX7O"
      },
      "source": [
        "def geographicDistance(a, b):\n",
        "    # Pentru 2 coordonate geografice calculeaza distanta\n",
        "    \"\"\"Calculates distance between two latitude-longitude coordinates.\"\"\"\n",
        "    R = 6378.1  # equatorial radius of Earth https://imagine.gsfc.nasa.gov/features/cosmic/earth_info.html\n",
        "    lat1, lon1 = math.radians(a[0]), math.radians(a[1])\n",
        "    lat2, lon2 = math.radians(b[0]), math.radians(b[1])\n",
        "    return math.acos(math.sin(lat1) * math.sin(lat2) +\n",
        "                     math.cos(lat1) * math.cos(lat2) * math.cos(lon1 - lon2)) * R"
      ],
      "execution_count": null,
      "outputs": []
    },
    {
      "cell_type": "code",
      "metadata": {
        "id": "6TTKgeXUEs4Z"
      },
      "source": [
        "class TravellingSalesmanProblem(Annealer):\n",
        "    \"\"\"Test annealer with a travelling salesman problem.\"\"\"\n",
        "    # Se calculeaza distanta de la un oras la fiecare din restul\n",
        "    def __init__(self, state, distance_matrix):\n",
        "        self.distance_matrix = distance_matrix\n",
        "        super(TravellingSalesmanProblem, self).__init__(state)  \n",
        "\n",
        "    def move(self): # Operator de perturbatie, care pentru o anumita solutie cauta o solutie noua \n",
        "        \"\"\"Swaps two cities in the route.\"\"\"\n",
        "        initial_energy = self.energy()\n",
        "        # Alegem 2 indexi la intamplare a si b si ii schimbam intre ei\n",
        "        a = random.randint(0, len(self.state) - 1)\n",
        "        b = random.randint(0, len(self.state) - 1)\n",
        "        self.state[a], self.state[b] = self.state[b], self.state[a]\n",
        "\n",
        "        return self.energy() - initial_energy\n",
        "\n",
        "    def energy(self):# Cat de buna e solutia, parcurgem matricea oraselor, si calculam distanta aeriana \n",
        "        \"\"\"Calculates the length of the route.\"\"\"\n",
        "        e = 0\n",
        "        for i in range(len(self.state)):\n",
        "            e += self.distance_matrix[self.state[i-1]][self.state[i]]\n",
        "        return e"
      ],
      "execution_count": null,
      "outputs": []
    },
    {
      "cell_type": "code",
      "metadata": {
        "id": "1xd-jefAIDGX"
      },
      "source": [
        "# latitude and longitude for the twenty largest U.S. cities\n",
        "# https://en.wikipedia.org/wiki/List_of_United_States_cities_by_population\n",
        "\n",
        "cities = {\n",
        "        'New York City': (40.72, 74.00),\n",
        "        'Los Angeles': (34.05, 118.25),\n",
        "        'Chicago': (41.88, 87.63),\n",
        "        'Houston': (29.77, 95.38),\n",
        "        'Phoenix': (33.45, 112.07),\n",
        "        'Philadelphia': (39.95, 75.17),\n",
        "        'San Antonio': (29.53, 98.47),\n",
        "        'Dallas': (32.78, 96.80),\n",
        "        'San Diego': (32.78, 117.15),\n",
        "        'San Jose': (37.30, 121.87),\n",
        "        'Detroit': (42.33, 83.05),\n",
        "        'San Francisco': (37.78, 122.42),\n",
        "        'Jacksonville': (30.32, 81.70),\n",
        "        'Indianapolis': (39.78, 86.15),\n",
        "        'Austin': (30.27, 97.77),\n",
        "        'Columbus': (39.98, 82.98),\n",
        "        'Fort Worth': (32.75, 97.33),\n",
        "        'Charlotte': (35.23, 80.85),\n",
        "        'Memphis': (35.12, 89.97),\n",
        "        'Baltimore': (39.28, 76.62)\n",
        "    }"
      ],
      "execution_count": null,
      "outputs": []
    },
    {
      "cell_type": "code",
      "metadata": {
        "colab": {
          "base_uri": "https://localhost:8080/"
        },
        "id": "6ITFi5WiIdLZ",
        "outputId": "134738dd-6abc-4d62-986b-887c80dc4344"
      },
      "source": [
        "import random\n",
        "# initial state, a randomly-ordered itinerary\n",
        "# Generarea unei stari initiale, pentru a avea o permutatie\n",
        "init_state = list(cities)\n",
        "random.shuffle(init_state)\n",
        "print(init_state)"
      ],
      "execution_count": null,
      "outputs": [
        {
          "output_type": "stream",
          "text": [
            "['Dallas', 'Chicago', 'San Diego', 'San Francisco', 'San Jose', 'Detroit', 'Austin', 'Houston', 'Phoenix', 'Jacksonville', 'Memphis', 'Charlotte', 'Philadelphia', 'Fort Worth', 'New York City', 'Columbus', 'Baltimore', 'Indianapolis', 'Los Angeles', 'San Antonio']\n"
          ],
          "name": "stdout"
        }
      ]
    },
    {
      "cell_type": "code",
      "metadata": {
        "colab": {
          "base_uri": "https://localhost:8080/"
        },
        "id": "oTOhQPg4I1Y9",
        "outputId": "eb816890-5179-400d-ca87-142692d8bfe6"
      },
      "source": [
        "from collections import defaultdict\n",
        "# create an adjacency matrix - https://en.wikipedia.org/wiki/Adjacency_matrix\n",
        "distance_matrix = defaultdict(dict)\n",
        "for ka, va in cities.items():\n",
        "  for kb, vb in cities.items():\n",
        "    distance_matrix[ka][kb] = 0.0 if kb == ka else geographicDistance(va, vb)\n",
        "\n",
        "print('The distance from New York to LA is {0} kms.'.format(distance_matrix['New York City']['Los Angeles']))"
      ],
      "execution_count": null,
      "outputs": [
        {
          "output_type": "stream",
          "text": [
            "The distance from New York to LA is 3941.216462476524 kms.\n"
          ],
          "name": "stdout"
        }
      ]
    },
    {
      "cell_type": "markdown",
      "metadata": {
        "id": "2J0snbwfKM1k"
      },
      "source": [
        "Confirm with Google:\n",
        "\n",
        "https://www.google.com/search?client=safari&rls=en&q=distance+new+york+to+houston&ie=UTF-8&oe=UTF-8\n",
        "\n",
        "![](https://www.google.com/maps/vt/data=6dwNcCGg2G7qCjzYYqmJEvOdwo3PgE9W1cAWPqOISd3KCjFsBMSOiQAICYx0I_jjWmQris4hQePQoQyrx4AlvoeJ_guXdArgnA6Kpte8Na4_RaUTcT_tLLnd4FCx5ITouhQKjNDCLdh3qLx409QSRDMKlxA4eVsp4p7wl__yGnMO1ronpZAjHtKBnmAd,3-zgxN7akVijwp6XwwoZFPZqIq2xWsAQvVlfYY3ZjKSbZlcBxOF74y4qPLf3M0G5_JzyiXpogRqPH290MBSfK418Y3GbASjpkdz5cCQy7FiGqCuKVcZ_vTPr_-IHYnfv0wWQvsLGp0J3AYXrnST-yz_SxrfYVOzvd4mjgNBnwDibdQxoFT6iHnfaq7zLTyAig23Lt-ehVUkeWySw-dCNCv1RGCFnmUqpgoS0Y278AqbMlfpxTCdmQdsEKURB7RfZ8YTFTXslG9tcd6WV-N62Y8t4PJEalDmQUOgaLbrG_aK71_ZYUn_0hW8PYxtH4VFxt4ZMaxtZ_8J__w63usk9rXfT184R6ndQE6_CpwFArJF_uXI0WkZXIDZmKVBXZX5bO_y1GLM?scale=2&h=200&w=618)"
      ]
    },
    {
      "cell_type": "code",
      "metadata": {
        "colab": {
          "base_uri": "https://localhost:8080/"
        },
        "id": "o_UBokbELPPF",
        "outputId": "5da309f7-a518-48a6-8693-494147db2d82"
      },
      "source": [
        "#Optimizarea problemei\n",
        "\n",
        "\n",
        "\n",
        "tsp = TravellingSalesmanProblem(init_state, distance_matrix)# Specificam starea initiala si matricea de distante\n",
        "tsp.set_schedule(tsp.auto(minutes = 1)) # Setam timpul de rulare maxim la 1 min\n",
        "\n",
        "tsp.copy_strategy = 'slice'\n",
        "state, e = tsp.anneal() # Initializam operatiunea de optimizare \n",
        "\n",
        "while state[0] != 'New York City':\n",
        "    state = state[1:] + state[:1]  # rotate NYC to start\n",
        "\n",
        "print()\n",
        "print(\"%i km route:\" % e)\n",
        "print(\" ➞  \".join(state))"
      ],
      "execution_count": null,
      "outputs": [
        {
          "output_type": "stream",
          "text": [
            " Temperature        Energy    Accept   Improve     Elapsed   Remaining\n",
            " Temperature        Energy    Accept   Improve     Elapsed   Remaining\n"
          ],
          "name": "stderr"
        },
        {
          "output_type": "stream",
          "text": [
            "\n",
            "10946 km route:\n",
            "New York City ➞  Philadelphia ➞  Baltimore ➞  Charlotte ➞  Jacksonville ➞  Memphis ➞  Dallas ➞  Fort Worth ➞  Houston ➞  Austin ➞  San Antonio ➞  Phoenix ➞  San Diego ➞  Los Angeles ➞  San Jose ➞  San Francisco ➞  Chicago ➞  Indianapolis ➞  Columbus ➞  Detroit\n"
          ],
          "name": "stdout"
        }
      ]
    },
    {
      "cell_type": "markdown",
      "metadata": {
        "id": "TWLBFpvKbV8j"
      },
      "source": [
        "### Vizualizarea rutei obținute\n"
      ]
    },
    {
      "cell_type": "code",
      "metadata": {
        "colab": {
          "base_uri": "https://localhost:8080/"
        },
        "id": "uYI2xOA0NH4Z",
        "outputId": "591001e5-35d1-45d1-ff9f-4c5be4b2bdf7"
      },
      "source": [
        "!pip install geopandas"
      ],
      "execution_count": null,
      "outputs": [
        {
          "output_type": "stream",
          "text": [
            "Collecting geopandas\n",
            "\u001b[?25l  Downloading https://files.pythonhosted.org/packages/2a/9f/e8a440a993e024c0d3d4e5c7d3346367c50c9a1a3d735caf5ee3bde0aab1/geopandas-0.8.2-py2.py3-none-any.whl (962kB)\n",
            "\r\u001b[K     |▍                               | 10kB 15.4MB/s eta 0:00:01\r\u001b[K     |▊                               | 20kB 11.2MB/s eta 0:00:01\r\u001b[K     |█                               | 30kB 9.7MB/s eta 0:00:01\r\u001b[K     |█▍                              | 40kB 6.9MB/s eta 0:00:01\r\u001b[K     |█▊                              | 51kB 4.2MB/s eta 0:00:01\r\u001b[K     |██                              | 61kB 4.8MB/s eta 0:00:01\r\u001b[K     |██▍                             | 71kB 4.7MB/s eta 0:00:01\r\u001b[K     |██▊                             | 81kB 5.2MB/s eta 0:00:01\r\u001b[K     |███                             | 92kB 4.9MB/s eta 0:00:01\r\u001b[K     |███▍                            | 102kB 5.1MB/s eta 0:00:01\r\u001b[K     |███▊                            | 112kB 5.1MB/s eta 0:00:01\r\u001b[K     |████                            | 122kB 5.1MB/s eta 0:00:01\r\u001b[K     |████▍                           | 133kB 5.1MB/s eta 0:00:01\r\u001b[K     |████▊                           | 143kB 5.1MB/s eta 0:00:01\r\u001b[K     |█████                           | 153kB 5.1MB/s eta 0:00:01\r\u001b[K     |█████▌                          | 163kB 5.1MB/s eta 0:00:01\r\u001b[K     |█████▉                          | 174kB 5.1MB/s eta 0:00:01\r\u001b[K     |██████▏                         | 184kB 5.1MB/s eta 0:00:01\r\u001b[K     |██████▌                         | 194kB 5.1MB/s eta 0:00:01\r\u001b[K     |██████▉                         | 204kB 5.1MB/s eta 0:00:01\r\u001b[K     |███████▏                        | 215kB 5.1MB/s eta 0:00:01\r\u001b[K     |███████▌                        | 225kB 5.1MB/s eta 0:00:01\r\u001b[K     |███████▉                        | 235kB 5.1MB/s eta 0:00:01\r\u001b[K     |████████▏                       | 245kB 5.1MB/s eta 0:00:01\r\u001b[K     |████████▌                       | 256kB 5.1MB/s eta 0:00:01\r\u001b[K     |████████▉                       | 266kB 5.1MB/s eta 0:00:01\r\u001b[K     |█████████▏                      | 276kB 5.1MB/s eta 0:00:01\r\u001b[K     |█████████▌                      | 286kB 5.1MB/s eta 0:00:01\r\u001b[K     |█████████▉                      | 296kB 5.1MB/s eta 0:00:01\r\u001b[K     |██████████▏                     | 307kB 5.1MB/s eta 0:00:01\r\u001b[K     |██████████▌                     | 317kB 5.1MB/s eta 0:00:01\r\u001b[K     |███████████                     | 327kB 5.1MB/s eta 0:00:01\r\u001b[K     |███████████▎                    | 337kB 5.1MB/s eta 0:00:01\r\u001b[K     |███████████▋                    | 348kB 5.1MB/s eta 0:00:01\r\u001b[K     |████████████                    | 358kB 5.1MB/s eta 0:00:01\r\u001b[K     |████████████▎                   | 368kB 5.1MB/s eta 0:00:01\r\u001b[K     |████████████▋                   | 378kB 5.1MB/s eta 0:00:01\r\u001b[K     |█████████████                   | 389kB 5.1MB/s eta 0:00:01\r\u001b[K     |█████████████▎                  | 399kB 5.1MB/s eta 0:00:01\r\u001b[K     |█████████████▋                  | 409kB 5.1MB/s eta 0:00:01\r\u001b[K     |██████████████                  | 419kB 5.1MB/s eta 0:00:01\r\u001b[K     |██████████████▎                 | 430kB 5.1MB/s eta 0:00:01\r\u001b[K     |██████████████▋                 | 440kB 5.1MB/s eta 0:00:01\r\u001b[K     |███████████████                 | 450kB 5.1MB/s eta 0:00:01\r\u001b[K     |███████████████▎                | 460kB 5.1MB/s eta 0:00:01\r\u001b[K     |███████████████▋                | 471kB 5.1MB/s eta 0:00:01\r\u001b[K     |████████████████                | 481kB 5.1MB/s eta 0:00:01\r\u001b[K     |████████████████▍               | 491kB 5.1MB/s eta 0:00:01\r\u001b[K     |████████████████▊               | 501kB 5.1MB/s eta 0:00:01\r\u001b[K     |█████████████████               | 512kB 5.1MB/s eta 0:00:01\r\u001b[K     |█████████████████▍              | 522kB 5.1MB/s eta 0:00:01\r\u001b[K     |█████████████████▊              | 532kB 5.1MB/s eta 0:00:01\r\u001b[K     |██████████████████              | 542kB 5.1MB/s eta 0:00:01\r\u001b[K     |██████████████████▍             | 552kB 5.1MB/s eta 0:00:01\r\u001b[K     |██████████████████▊             | 563kB 5.1MB/s eta 0:00:01\r\u001b[K     |███████████████████             | 573kB 5.1MB/s eta 0:00:01\r\u001b[K     |███████████████████▍            | 583kB 5.1MB/s eta 0:00:01\r\u001b[K     |███████████████████▊            | 593kB 5.1MB/s eta 0:00:01\r\u001b[K     |████████████████████            | 604kB 5.1MB/s eta 0:00:01\r\u001b[K     |████████████████████▍           | 614kB 5.1MB/s eta 0:00:01\r\u001b[K     |████████████████████▊           | 624kB 5.1MB/s eta 0:00:01\r\u001b[K     |█████████████████████           | 634kB 5.1MB/s eta 0:00:01\r\u001b[K     |█████████████████████▍          | 645kB 5.1MB/s eta 0:00:01\r\u001b[K     |█████████████████████▉          | 655kB 5.1MB/s eta 0:00:01\r\u001b[K     |██████████████████████▏         | 665kB 5.1MB/s eta 0:00:01\r\u001b[K     |██████████████████████▌         | 675kB 5.1MB/s eta 0:00:01\r\u001b[K     |██████████████████████▉         | 686kB 5.1MB/s eta 0:00:01\r\u001b[K     |███████████████████████▏        | 696kB 5.1MB/s eta 0:00:01\r\u001b[K     |███████████████████████▌        | 706kB 5.1MB/s eta 0:00:01\r\u001b[K     |███████████████████████▉        | 716kB 5.1MB/s eta 0:00:01\r\u001b[K     |████████████████████████▏       | 727kB 5.1MB/s eta 0:00:01\r\u001b[K     |████████████████████████▌       | 737kB 5.1MB/s eta 0:00:01\r\u001b[K     |████████████████████████▉       | 747kB 5.1MB/s eta 0:00:01\r\u001b[K     |█████████████████████████▏      | 757kB 5.1MB/s eta 0:00:01\r\u001b[K     |█████████████████████████▌      | 768kB 5.1MB/s eta 0:00:01\r\u001b[K     |█████████████████████████▉      | 778kB 5.1MB/s eta 0:00:01\r\u001b[K     |██████████████████████████▏     | 788kB 5.1MB/s eta 0:00:01\r\u001b[K     |██████████████████████████▌     | 798kB 5.1MB/s eta 0:00:01\r\u001b[K     |██████████████████████████▉     | 808kB 5.1MB/s eta 0:00:01\r\u001b[K     |███████████████████████████▎    | 819kB 5.1MB/s eta 0:00:01\r\u001b[K     |███████████████████████████▋    | 829kB 5.1MB/s eta 0:00:01\r\u001b[K     |████████████████████████████    | 839kB 5.1MB/s eta 0:00:01\r\u001b[K     |████████████████████████████▎   | 849kB 5.1MB/s eta 0:00:01\r\u001b[K     |████████████████████████████▋   | 860kB 5.1MB/s eta 0:00:01\r\u001b[K     |█████████████████████████████   | 870kB 5.1MB/s eta 0:00:01\r\u001b[K     |█████████████████████████████▎  | 880kB 5.1MB/s eta 0:00:01\r\u001b[K     |█████████████████████████████▋  | 890kB 5.1MB/s eta 0:00:01\r\u001b[K     |██████████████████████████████  | 901kB 5.1MB/s eta 0:00:01\r\u001b[K     |██████████████████████████████▎ | 911kB 5.1MB/s eta 0:00:01\r\u001b[K     |██████████████████████████████▋ | 921kB 5.1MB/s eta 0:00:01\r\u001b[K     |███████████████████████████████ | 931kB 5.1MB/s eta 0:00:01\r\u001b[K     |███████████████████████████████▎| 942kB 5.1MB/s eta 0:00:01\r\u001b[K     |███████████████████████████████▋| 952kB 5.1MB/s eta 0:00:01\r\u001b[K     |████████████████████████████████| 962kB 5.1MB/s eta 0:00:01\r\u001b[K     |████████████████████████████████| 972kB 5.1MB/s \n",
            "\u001b[?25hRequirement already satisfied: shapely in /usr/local/lib/python3.7/dist-packages (from geopandas) (1.7.1)\n",
            "Collecting pyproj>=2.2.0\n",
            "\u001b[?25l  Downloading https://files.pythonhosted.org/packages/05/0c/d7c2c7c370ea5368b813a44e772247ed1a461dc47de70c5d02e079abc7e0/pyproj-3.0.0.post1-cp37-cp37m-manylinux2010_x86_64.whl (6.4MB)\n",
            "\u001b[K     |████████████████████████████████| 6.5MB 12.1MB/s \n",
            "\u001b[?25hRequirement already satisfied: pandas>=0.23.0 in /usr/local/lib/python3.7/dist-packages (from geopandas) (1.1.5)\n",
            "Collecting fiona\n",
            "\u001b[?25l  Downloading https://files.pythonhosted.org/packages/47/c2/67d1d0acbaaee3b03e5e22e3b96c33219cb5dd392531c9ff9cee7c2eb3e4/Fiona-1.8.18-cp37-cp37m-manylinux1_x86_64.whl (14.8MB)\n",
            "\u001b[K     |████████████████████████████████| 14.8MB 317kB/s \n",
            "\u001b[?25hRequirement already satisfied: certifi in /usr/local/lib/python3.7/dist-packages (from pyproj>=2.2.0->geopandas) (2020.12.5)\n",
            "Requirement already satisfied: pytz>=2017.2 in /usr/local/lib/python3.7/dist-packages (from pandas>=0.23.0->geopandas) (2018.9)\n",
            "Requirement already satisfied: numpy>=1.15.4 in /usr/local/lib/python3.7/dist-packages (from pandas>=0.23.0->geopandas) (1.19.5)\n",
            "Requirement already satisfied: python-dateutil>=2.7.3 in /usr/local/lib/python3.7/dist-packages (from pandas>=0.23.0->geopandas) (2.8.1)\n",
            "Requirement already satisfied: six>=1.7 in /usr/local/lib/python3.7/dist-packages (from fiona->geopandas) (1.15.0)\n",
            "Collecting munch\n",
            "  Downloading https://files.pythonhosted.org/packages/cc/ab/85d8da5c9a45e072301beb37ad7f833cd344e04c817d97e0cc75681d248f/munch-2.5.0-py2.py3-none-any.whl\n",
            "Requirement already satisfied: attrs>=17 in /usr/local/lib/python3.7/dist-packages (from fiona->geopandas) (20.3.0)\n",
            "Collecting click-plugins>=1.0\n",
            "  Downloading https://files.pythonhosted.org/packages/e9/da/824b92d9942f4e472702488857914bdd50f73021efea15b4cad9aca8ecef/click_plugins-1.1.1-py2.py3-none-any.whl\n",
            "Requirement already satisfied: click<8,>=4.0 in /usr/local/lib/python3.7/dist-packages (from fiona->geopandas) (7.1.2)\n",
            "Collecting cligj>=0.5\n",
            "  Downloading https://files.pythonhosted.org/packages/42/1e/947eadf10d6804bf276eb8a038bd5307996dceaaa41cfd21b7a15ec62f5d/cligj-0.7.1-py3-none-any.whl\n",
            "Installing collected packages: pyproj, munch, click-plugins, cligj, fiona, geopandas\n",
            "Successfully installed click-plugins-1.1.1 cligj-0.7.1 fiona-1.8.18 geopandas-0.8.2 munch-2.5.0 pyproj-3.0.0.post1\n"
          ],
          "name": "stdout"
        }
      ]
    },
    {
      "cell_type": "code",
      "metadata": {
        "id": "jm_0Y_MyM7XW"
      },
      "source": [
        "# Pentru reprezentarea geografica se foloseste geopandas , lucraza cu coordonate geografice\n",
        "import numpy as np\n",
        "import pandas as pd\n",
        "import matplotlib.pyplot as plt\n",
        "import descartes\n",
        "import geopandas as gpd\n",
        "from shapely.geometry import Point, Polygon"
      ],
      "execution_count": null,
      "outputs": []
    },
    {
      "cell_type": "code",
      "metadata": {
        "colab": {
          "base_uri": "https://localhost:8080/",
          "height": 198
        },
        "id": "87bIouW7POmU",
        "outputId": "db733556-9c4a-43dd-ae07-e031cd77a57c"
      },
      "source": [
        "df = pd.DataFrame(\n",
        "    {'City': cities.keys(),\n",
        "     'Latitude': [x[0] for x in cities.values()],\n",
        "     'Longitude': [x[1] for x in cities.values()]})\n",
        "\n",
        "df.head()"
      ],
      "execution_count": null,
      "outputs": [
        {
          "output_type": "execute_result",
          "data": {
            "text/html": [
              "<div>\n",
              "<style scoped>\n",
              "    .dataframe tbody tr th:only-of-type {\n",
              "        vertical-align: middle;\n",
              "    }\n",
              "\n",
              "    .dataframe tbody tr th {\n",
              "        vertical-align: top;\n",
              "    }\n",
              "\n",
              "    .dataframe thead th {\n",
              "        text-align: right;\n",
              "    }\n",
              "</style>\n",
              "<table border=\"1\" class=\"dataframe\">\n",
              "  <thead>\n",
              "    <tr style=\"text-align: right;\">\n",
              "      <th></th>\n",
              "      <th>City</th>\n",
              "      <th>Latitude</th>\n",
              "      <th>Longitude</th>\n",
              "    </tr>\n",
              "  </thead>\n",
              "  <tbody>\n",
              "    <tr>\n",
              "      <th>0</th>\n",
              "      <td>New York City</td>\n",
              "      <td>40.72</td>\n",
              "      <td>74.00</td>\n",
              "    </tr>\n",
              "    <tr>\n",
              "      <th>1</th>\n",
              "      <td>Los Angeles</td>\n",
              "      <td>34.05</td>\n",
              "      <td>118.25</td>\n",
              "    </tr>\n",
              "    <tr>\n",
              "      <th>2</th>\n",
              "      <td>Chicago</td>\n",
              "      <td>41.88</td>\n",
              "      <td>87.63</td>\n",
              "    </tr>\n",
              "    <tr>\n",
              "      <th>3</th>\n",
              "      <td>Houston</td>\n",
              "      <td>29.77</td>\n",
              "      <td>95.38</td>\n",
              "    </tr>\n",
              "    <tr>\n",
              "      <th>4</th>\n",
              "      <td>Phoenix</td>\n",
              "      <td>33.45</td>\n",
              "      <td>112.07</td>\n",
              "    </tr>\n",
              "  </tbody>\n",
              "</table>\n",
              "</div>"
            ],
            "text/plain": [
              "            City  Latitude  Longitude\n",
              "0  New York City     40.72      74.00\n",
              "1    Los Angeles     34.05     118.25\n",
              "2        Chicago     41.88      87.63\n",
              "3        Houston     29.77      95.38\n",
              "4        Phoenix     33.45     112.07"
            ]
          },
          "metadata": {
            "tags": []
          },
          "execution_count": 11
        }
      ]
    },
    {
      "cell_type": "code",
      "metadata": {
        "id": "Uk-QQxKHO0_S"
      },
      "source": [
        "\n",
        "# De la un dataframe trecem la un geodataframe\n",
        "\n",
        "gdf = gpd.GeoDataFrame(\n",
        "    df, geometry=gpd.points_from_xy(-df.Longitude, df.Latitude), crs = 4326)"
      ],
      "execution_count": null,
      "outputs": []
    },
    {
      "cell_type": "code",
      "metadata": {
        "colab": {
          "base_uri": "https://localhost:8080/",
          "height": 462
        },
        "id": "4vaYU78oQG83",
        "outputId": "844dbc9b-8d2c-496c-fde6-20ed85984121"
      },
      "source": [
        "# Incarcam harta lumii\n",
        "world = gpd.read_file(gpd.datasets.get_path('naturalearth_lowres'))\n",
        "\n",
        "# Selectam regiunea pentru America , afisam harta tarii\n",
        "ax = world[world.name == 'United States of America'].plot(\n",
        "    color='white', edgecolor='black', figsize=(12, 10))\n",
        "\n",
        "gdf.plot(ax=ax,color='red')\n",
        "\n",
        "# Parcurgem traseul gasit\n",
        "for i in range(0, len(state)-1):\n",
        "  plt.plot( [-df[df.City==state[i]].Longitude, -df[df.City==state[i+1]].Longitude], [df[df.City==state[i]].Latitude, df[df.City==state[i+1]].Latitude])\n",
        "\n",
        "plt.show()"
      ],
      "execution_count": null,
      "outputs": [
        {
          "output_type": "display_data",
          "data": {
            "image/png": "[encoded data removed]",
            "text/plain": [
              "<Figure size 864x720 with 1 Axes>"
            ]
          },
          "metadata": {
            "tags": [],
            "needs_background": "light"
          }
        }
      ]
    },
    {
      "cell_type": "markdown",
      "metadata": {
        "id": "VFNwr9oV87u3"
      },
      "source": [
        "# Exerciții\n",
        "\n",
        "1. Conform articolului [\"On the Convergence Time of Simulated Annealing\"](https://core.ac.uk/download/pdf/76359167.pdf) ce se poate afirma despre convergența metodei?\n",
        "2. Care [programe de răcire](https://www.researchgate.net/publication/282449315_A_Comparative_Study_of_Simulated_Annealing_with_different_Cooling_Schedules_for_Geometric_Optimization_of_a_Heat_Transfer_Problem_According_to_Constructal_Design) (cooling schedule) sunt cel mai des folosite? La ce tipuri de probleme se pretează programele de răcire mai lente?\n",
        "3. Conform [acestei](https://page.mi.fu-berlin.de/prechelt/Biblio/kangaroo_analogy.html) analogii amuzante, cum este descrisă dinamica călirii simulate? \n",
        "4. Cu ajutorul [`scipy.optimize.anneal`](https://docs.scipy.org/doc/scipy-0.14.0/reference/generated/scipy.optimize.anneal.html) găsiți optimele funcțiilor studiate laboratorul precedent (conform exemplului din documentație - schimbați definiția funcției `f`). Cum se compară performanța cu strategiile de îmbunătățire iterativă, în cazul funcțiilor multimodale?\n",
        "5. Rezolvați problema comis voiajorului pentru [municipiile de rang 0 din România](https://ro.wikipedia.org/wiki/Municipiile_României).\n",
        "6. *Implementați (soluție proprie) metoda călirii simulate, exemplificați funcționalitatea pe o problemă aleasă.* **(opțional, punct în plus)**."
      ]
    },
    {
      "cell_type": "code",
      "metadata": {
        "id": "DngoVySf7AOQ"
      },
      "source": [
        "# Problema 5\r\n",
        "\r\n",
        "ro_cities = {\r\n",
        "        'Bucuresti': (44.26, 26.6),\r\n",
        "        'Bacau': (46.35, 26.55),\r\n",
        "        'Brasov': (45.36, 25.36),\r\n",
        "        'Braila': (45.16, 27.57),\r\n",
        "        'Galati': (45.26, 28.2),\r\n",
        "        'Cluj-Napoca': (46.46, 23.35),\r\n",
        "        'Constanta': (44.1, 28.38),\r\n",
        "        'Craiova': (44.2, 23.49),\r\n",
        "        'Iasi': (47.9, 27.35),\r\n",
        "        'Oradea': (47.04, 21.55),\r\n",
        "        'Ploiesti': (44.56, 26.1),\r\n",
        "        'Timisoara': (45.47, 21.17),\r\n",
        "    }"
      ],
      "execution_count": null,
      "outputs": []
    },
    {
      "cell_type": "code",
      "metadata": {
        "colab": {
          "base_uri": "https://localhost:8080/"
        },
        "id": "Dox_ITnUObPA",
        "outputId": "ea20aafd-66a4-476a-9d20-28c50a06dbdb"
      },
      "source": [
        "init_state_ro = list(ro_cities)\r\n",
        "random.shuffle(init_state_ro)\r\n",
        "print(init_state_ro)"
      ],
      "execution_count": null,
      "outputs": [
        {
          "output_type": "stream",
          "text": [
            "['Bacau', 'Ploiesti', 'Galati', 'Oradea', 'Cluj-Napoca', 'Timisoara', 'Bucuresti', 'Braila', 'Brasov', 'Craiova', 'Constanta', 'Iasi']\n"
          ],
          "name": "stdout"
        }
      ]
    },
    {
      "cell_type": "code",
      "metadata": {
        "colab": {
          "base_uri": "https://localhost:8080/"
        },
        "id": "QPmLfMIxOrLf",
        "outputId": "ccf1608f-6499-4e1c-ca96-607b505068c5"
      },
      "source": [
        "from collections import defaultdict\r\n",
        "# create an adjacency matrix - https://en.wikipedia.org/wiki/Adjacency_matrix\r\n",
        "distance_matrix_ro = defaultdict(dict)\r\n",
        "for ka, va in ro_cities.items():\r\n",
        "  for kb, vb in ro_cities.items():\r\n",
        "    distance_matrix_ro[ka][kb] = 0.0 if kb == ka else geographicDistance(va, vb)\r\n",
        "\r\n",
        "print('The distance from Bucuresti to Constanta is {0} kms.'.format(distance_matrix_ro['Bucuresti']['Constanta']))"
      ],
      "execution_count": null,
      "outputs": [
        {
          "output_type": "stream",
          "text": [
            "The distance from Bucuresti to Constanta is 143.21121956677663 kms.\n"
          ],
          "name": "stdout"
        }
      ]
    },
    {
      "cell_type": "code",
      "metadata": {
        "id": "s3YxGUqlSojO",
        "colab": {
          "base_uri": "https://localhost:8080/"
        },
        "outputId": "6a19768f-61d8-41e3-d598-850e7359f607"
      },
      "source": [
        "#Optimizarea problemei\r\n",
        "\r\n",
        "\r\n",
        "\r\n",
        "tsp_ro = TravellingSalesmanProblem(init_state_ro, distance_matrix_ro)# Specificam starea initiala si matricea de distante\r\n",
        "tsp_ro.set_schedule(tsp.auto(minutes = 1)) # Setam timpul de rulare maxim la 1 min\r\n",
        "\r\n",
        "tsp_ro.copy_strategy = 'slice'\r\n",
        "state_ro, e_ro = tsp_ro.anneal() # Initializam operatiunea de optimizare \r\n",
        "\r\n",
        "while state_ro[0] != 'Bucuresti':\r\n",
        "    state_ro = state_ro[1:] + state_ro[:1]  # rotate NYC to start\r\n",
        "\r\n",
        "print()\r\n",
        "print(\"%i km route:\" % e_ro)\r\n",
        "print(\" ➞  \".join(state_ro))"
      ],
      "execution_count": null,
      "outputs": [
        {
          "output_type": "stream",
          "text": [
            " Temperature        Energy    Accept   Improve     Elapsed   Remaining\n",
            " Temperature        Energy    Accept   Improve     Elapsed   Remaining\n"
          ],
          "name": "stderr"
        },
        {
          "output_type": "stream",
          "text": [
            "\n",
            "1918 km route:\n",
            "Bucuresti ➞  Constanta ➞  Galati ➞  Braila ➞  Bacau ➞  Iasi ➞  Cluj-Napoca ➞  Oradea ➞  Timisoara ➞  Craiova ➞  Brasov ➞  Ploiesti\n"
          ],
          "name": "stdout"
        }
      ]
    },
    {
      "cell_type": "code",
      "metadata": {
        "colab": {
          "base_uri": "https://localhost:8080/",
          "height": 198
        },
        "id": "VvKLx5MjQcok",
        "outputId": "a2153d83-b874-4756-c419-94fa68bfdf77"
      },
      "source": [
        "df_ro = pd.DataFrame(\r\n",
        "    {'City': ro_cities.keys(),\r\n",
        "     'Latitude': [m[0] for m in ro_cities.values()],\r\n",
        "     'Longitude': [m[1] for m in ro_cities.values()]})\r\n",
        "\r\n",
        "df_ro.head()"
      ],
      "execution_count": null,
      "outputs": [
        {
          "output_type": "execute_result",
          "data": {
            "text/html": [
              "<div>\n",
              "<style scoped>\n",
              "    .dataframe tbody tr th:only-of-type {\n",
              "        vertical-align: middle;\n",
              "    }\n",
              "\n",
              "    .dataframe tbody tr th {\n",
              "        vertical-align: top;\n",
              "    }\n",
              "\n",
              "    .dataframe thead th {\n",
              "        text-align: right;\n",
              "    }\n",
              "</style>\n",
              "<table border=\"1\" class=\"dataframe\">\n",
              "  <thead>\n",
              "    <tr style=\"text-align: right;\">\n",
              "      <th></th>\n",
              "      <th>City</th>\n",
              "      <th>Latitude</th>\n",
              "      <th>Longitude</th>\n",
              "    </tr>\n",
              "  </thead>\n",
              "  <tbody>\n",
              "    <tr>\n",
              "      <th>0</th>\n",
              "      <td>Bucuresti</td>\n",
              "      <td>44.26</td>\n",
              "      <td>26.60</td>\n",
              "    </tr>\n",
              "    <tr>\n",
              "      <th>1</th>\n",
              "      <td>Bacau</td>\n",
              "      <td>46.35</td>\n",
              "      <td>26.55</td>\n",
              "    </tr>\n",
              "    <tr>\n",
              "      <th>2</th>\n",
              "      <td>Brasov</td>\n",
              "      <td>45.36</td>\n",
              "      <td>25.36</td>\n",
              "    </tr>\n",
              "    <tr>\n",
              "      <th>3</th>\n",
              "      <td>Braila</td>\n",
              "      <td>45.16</td>\n",
              "      <td>27.57</td>\n",
              "    </tr>\n",
              "    <tr>\n",
              "      <th>4</th>\n",
              "      <td>Galati</td>\n",
              "      <td>45.26</td>\n",
              "      <td>28.20</td>\n",
              "    </tr>\n",
              "  </tbody>\n",
              "</table>\n",
              "</div>"
            ],
            "text/plain": [
              "        City  Latitude  Longitude\n",
              "0  Bucuresti     44.26      26.60\n",
              "1      Bacau     46.35      26.55\n",
              "2     Brasov     45.36      25.36\n",
              "3     Braila     45.16      27.57\n",
              "4     Galati     45.26      28.20"
            ]
          },
          "metadata": {
            "tags": []
          },
          "execution_count": 29
        }
      ]
    },
    {
      "cell_type": "code",
      "metadata": {
        "id": "VCerAmS0RHFr",
        "colab": {
          "base_uri": "https://localhost:8080/",
          "height": 408
        },
        "outputId": "d21df52a-7a3a-4007-97c3-6f0c3e9ca9c6"
      },
      "source": [
        "# De la un dataframe trecem la un geodataframe\r\n",
        "\r\n",
        "gdf_ro = gpd.GeoDataFrame(\r\n",
        "    df_ro, geometry=gpd.points_from_xy(df_ro.Longitude, df_ro.Latitude), crs = 4326)\r\n",
        "\r\n",
        "gdf_ro"
      ],
      "execution_count": null,
      "outputs": [
        {
          "output_type": "execute_result",
          "data": {
            "text/html": [
              "<div>\n",
              "<style scoped>\n",
              "    .dataframe tbody tr th:only-of-type {\n",
              "        vertical-align: middle;\n",
              "    }\n",
              "\n",
              "    .dataframe tbody tr th {\n",
              "        vertical-align: top;\n",
              "    }\n",
              "\n",
              "    .dataframe thead th {\n",
              "        text-align: right;\n",
              "    }\n",
              "</style>\n",
              "<table border=\"1\" class=\"dataframe\">\n",
              "  <thead>\n",
              "    <tr style=\"text-align: right;\">\n",
              "      <th></th>\n",
              "      <th>City</th>\n",
              "      <th>Latitude</th>\n",
              "      <th>Longitude</th>\n",
              "      <th>geometry</th>\n",
              "    </tr>\n",
              "  </thead>\n",
              "  <tbody>\n",
              "    <tr>\n",
              "      <th>0</th>\n",
              "      <td>Bucuresti</td>\n",
              "      <td>44.26</td>\n",
              "      <td>26.60</td>\n",
              "      <td>POINT (26.60000 44.26000)</td>\n",
              "    </tr>\n",
              "    <tr>\n",
              "      <th>1</th>\n",
              "      <td>Bacau</td>\n",
              "      <td>46.35</td>\n",
              "      <td>26.55</td>\n",
              "      <td>POINT (26.55000 46.35000)</td>\n",
              "    </tr>\n",
              "    <tr>\n",
              "      <th>2</th>\n",
              "      <td>Brasov</td>\n",
              "      <td>45.36</td>\n",
              "      <td>25.36</td>\n",
              "      <td>POINT (25.36000 45.36000)</td>\n",
              "    </tr>\n",
              "    <tr>\n",
              "      <th>3</th>\n",
              "      <td>Braila</td>\n",
              "      <td>45.16</td>\n",
              "      <td>27.57</td>\n",
              "      <td>POINT (27.57000 45.16000)</td>\n",
              "    </tr>\n",
              "    <tr>\n",
              "      <th>4</th>\n",
              "      <td>Galati</td>\n",
              "      <td>45.26</td>\n",
              "      <td>28.20</td>\n",
              "      <td>POINT (28.20000 45.26000)</td>\n",
              "    </tr>\n",
              "    <tr>\n",
              "      <th>5</th>\n",
              "      <td>Cluj-Napoca</td>\n",
              "      <td>46.46</td>\n",
              "      <td>23.35</td>\n",
              "      <td>POINT (23.35000 46.46000)</td>\n",
              "    </tr>\n",
              "    <tr>\n",
              "      <th>6</th>\n",
              "      <td>Constanta</td>\n",
              "      <td>44.10</td>\n",
              "      <td>28.38</td>\n",
              "      <td>POINT (28.38000 44.10000)</td>\n",
              "    </tr>\n",
              "    <tr>\n",
              "      <th>7</th>\n",
              "      <td>Craiova</td>\n",
              "      <td>44.20</td>\n",
              "      <td>23.49</td>\n",
              "      <td>POINT (23.49000 44.20000)</td>\n",
              "    </tr>\n",
              "    <tr>\n",
              "      <th>8</th>\n",
              "      <td>Iasi</td>\n",
              "      <td>47.90</td>\n",
              "      <td>27.35</td>\n",
              "      <td>POINT (27.35000 47.90000)</td>\n",
              "    </tr>\n",
              "    <tr>\n",
              "      <th>9</th>\n",
              "      <td>Oradea</td>\n",
              "      <td>47.04</td>\n",
              "      <td>21.55</td>\n",
              "      <td>POINT (21.55000 47.04000)</td>\n",
              "    </tr>\n",
              "    <tr>\n",
              "      <th>10</th>\n",
              "      <td>Ploiesti</td>\n",
              "      <td>44.56</td>\n",
              "      <td>26.10</td>\n",
              "      <td>POINT (26.10000 44.56000)</td>\n",
              "    </tr>\n",
              "    <tr>\n",
              "      <th>11</th>\n",
              "      <td>Timisoara</td>\n",
              "      <td>45.47</td>\n",
              "      <td>21.17</td>\n",
              "      <td>POINT (21.17000 45.47000)</td>\n",
              "    </tr>\n",
              "  </tbody>\n",
              "</table>\n",
              "</div>"
            ],
            "text/plain": [
              "           City  Latitude  Longitude                   geometry\n",
              "0     Bucuresti     44.26      26.60  POINT (26.60000 44.26000)\n",
              "1         Bacau     46.35      26.55  POINT (26.55000 46.35000)\n",
              "2        Brasov     45.36      25.36  POINT (25.36000 45.36000)\n",
              "3        Braila     45.16      27.57  POINT (27.57000 45.16000)\n",
              "4        Galati     45.26      28.20  POINT (28.20000 45.26000)\n",
              "5   Cluj-Napoca     46.46      23.35  POINT (23.35000 46.46000)\n",
              "6     Constanta     44.10      28.38  POINT (28.38000 44.10000)\n",
              "7       Craiova     44.20      23.49  POINT (23.49000 44.20000)\n",
              "8          Iasi     47.90      27.35  POINT (27.35000 47.90000)\n",
              "9        Oradea     47.04      21.55  POINT (21.55000 47.04000)\n",
              "10     Ploiesti     44.56      26.10  POINT (26.10000 44.56000)\n",
              "11    Timisoara     45.47      21.17  POINT (21.17000 45.47000)"
            ]
          },
          "metadata": {
            "tags": []
          },
          "execution_count": 32
        }
      ]
    },
    {
      "cell_type": "code",
      "metadata": {
        "colab": {
          "base_uri": "https://localhost:8080/",
          "height": 512
        },
        "id": "kdqAtgIwRZGy",
        "outputId": "d76415fc-2c11-4a95-96a9-2b270340331a"
      },
      "source": [
        "# Incarcam harta lumii\r\n",
        "world = gpd.read_file(gpd.datasets.get_path('naturalearth_lowres'))\r\n",
        "\r\n",
        "# Selectam regiunea pentru Romania , afisam harta tarii\r\n",
        "ax = world[world.name == 'Romania'].plot(\r\n",
        "    color='white', edgecolor='black', figsize=(12, 10))\r\n",
        "\r\n",
        "gdf_ro.plot(ax=ax,color='red')\r\n",
        "\r\n",
        "# Parcurgem traseul gasit\r\n",
        "for i in range(0, len(state_ro)-1):\r\n",
        "  plt.plot( [df_ro[df_ro.City==state_ro[i]].Longitude, df_ro[df_ro.City==state_ro[i+1]].Longitude], [df_ro[df_ro.City==state_ro[i]].Latitude, df_ro[df_ro.City==state_ro[i+1]].Latitude])\r\n",
        "\r\n",
        "plt.show()"
      ],
      "execution_count": null,
      "outputs": [
        {
          "output_type": "display_data",
          "data": {
            "image/png": "[encoded data removed]",
            "text/plain": [
              "<Figure size 864x720 with 1 Axes>"
            ]
          },
          "metadata": {
            "tags": [],
            "needs_background": "light"
          }
        }
      ]
    },
    {
      "cell_type": "code",
      "metadata": {
        "id": "89YiBejBS93A"
      },
      "source": [
        ""
      ],
      "execution_count": null,
      "outputs": []
    }
  ]
}