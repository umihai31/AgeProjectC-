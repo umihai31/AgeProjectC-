{
  "nbformat": 4,
  "nbformat_minor": 0,
  "metadata": {
    "colab": {
      "name": "ProiectBitcoin.ipynb",
      "provenance": [],
      "collapsed_sections": [
        "gcOM64McUhrz"
      ],
      "include_colab_link": true
    },
    "kernelspec": {
      "name": "python3",
      "display_name": "Python 3"
    }
  },
  "cells": [
    {
      "cell_type": "markdown",
      "metadata": {
        "id": "view-in-github",
        "colab_type": "text"
      },
      "source": [
        "<a href=\"https://colab.research.google.com/github/umihai31/AgeProjectC-/blob/master/ProiectBitcoin.ipynb\" target=\"_parent\"><img src=\"https://colab.research.google.com/assets/colab-badge.svg\" alt=\"Open In Colab\"/></a>"
      ]
    },
    {
      "cell_type": "code",
      "metadata": {
        "id": "4sBvi5BlSA3y"
      },
      "source": [
        "import pandas as pd\r\n",
        "import numpy as np\r\n",
        "import matplotlib.pyplot as plt\r\n",
        "from datetime import datetime\r\n",
        "\r\n",
        "plt.style.use('seaborn-darkgrid')"
      ],
      "execution_count": null,
      "outputs": []
    },
    {
      "cell_type": "code",
      "metadata": {
        "id": "_q9RUHvcSPPF"
      },
      "source": [
        "df = None\r\n",
        "df = pd.read_csv('BitcoinUSD.csv')"
      ],
      "execution_count": null,
      "outputs": []
    },
    {
      "cell_type": "code",
      "metadata": {
        "colab": {
          "base_uri": "https://localhost:8080/"
        },
        "id": "nFyGqJp8ZSfy",
        "outputId": "df97da10-062e-450d-aecb-4f41a2d5ad21"
      },
      "source": [
        "print(df)"
      ],
      "execution_count": null,
      "outputs": [
        {
          "output_type": "stream",
          "text": [
            "         Timestamp  Open  High  ...  Volume_(BTC)  Volume_(Currency)  Weighted_Price\n",
            "0       1325317920  4.39  4.39  ...      0.455581                2.0            4.39\n",
            "1       1325317980   NaN   NaN  ...           NaN                NaN             NaN\n",
            "2       1325318040   NaN   NaN  ...           NaN                NaN             NaN\n",
            "3       1325318100   NaN   NaN  ...           NaN                NaN             NaN\n",
            "4       1325318160   NaN   NaN  ...           NaN                NaN             NaN\n",
            "...            ...   ...   ...  ...           ...                ...             ...\n",
            "133784  1333344960   NaN   NaN  ...           NaN                NaN             NaN\n",
            "133785  1333345020   NaN   NaN  ...           NaN                NaN             NaN\n",
            "133786  1333345080   NaN   NaN  ...           NaN                NaN             NaN\n",
            "133787  1333345140   NaN   NaN  ...           NaN                NaN             NaN\n",
            "133788  1333345200   NaN   NaN  ...           NaN                NaN             NaN\n",
            "\n",
            "[133789 rows x 8 columns]\n"
          ],
          "name": "stdout"
        }
      ]
    },
    {
      "cell_type": "code",
      "metadata": {
        "colab": {
          "base_uri": "https://localhost:8080/",
          "height": 204
        },
        "id": "bo1_nT6MTrca",
        "outputId": "d91a0d82-1904-4110-8ac6-0de15f5206f2"
      },
      "source": [
        "df.head()"
      ],
      "execution_count": null,
      "outputs": [
        {
          "output_type": "execute_result",
          "data": {
            "text/html": [
              "<div>\n",
              "<style scoped>\n",
              "    .dataframe tbody tr th:only-of-type {\n",
              "        vertical-align: middle;\n",
              "    }\n",
              "\n",
              "    .dataframe tbody tr th {\n",
              "        vertical-align: top;\n",
              "    }\n",
              "\n",
              "    .dataframe thead th {\n",
              "        text-align: right;\n",
              "    }\n",
              "</style>\n",
              "<table border=\"1\" class=\"dataframe\">\n",
              "  <thead>\n",
              "    <tr style=\"text-align: right;\">\n",
              "      <th></th>\n",
              "      <th>Timestamp</th>\n",
              "      <th>Open</th>\n",
              "      <th>High</th>\n",
              "      <th>Low</th>\n",
              "      <th>Close</th>\n",
              "      <th>Volume_(BTC)</th>\n",
              "      <th>Volume_(Currency)</th>\n",
              "      <th>Weighted_Price</th>\n",
              "    </tr>\n",
              "  </thead>\n",
              "  <tbody>\n",
              "    <tr>\n",
              "      <th>0</th>\n",
              "      <td>1325317920</td>\n",
              "      <td>4.39</td>\n",
              "      <td>4.39</td>\n",
              "      <td>4.39</td>\n",
              "      <td>4.39</td>\n",
              "      <td>0.455581</td>\n",
              "      <td>2.0</td>\n",
              "      <td>4.39</td>\n",
              "    </tr>\n",
              "    <tr>\n",
              "      <th>1</th>\n",
              "      <td>1325317980</td>\n",
              "      <td>NaN</td>\n",
              "      <td>NaN</td>\n",
              "      <td>NaN</td>\n",
              "      <td>NaN</td>\n",
              "      <td>NaN</td>\n",
              "      <td>NaN</td>\n",
              "      <td>NaN</td>\n",
              "    </tr>\n",
              "    <tr>\n",
              "      <th>2</th>\n",
              "      <td>1325318040</td>\n",
              "      <td>NaN</td>\n",
              "      <td>NaN</td>\n",
              "      <td>NaN</td>\n",
              "      <td>NaN</td>\n",
              "      <td>NaN</td>\n",
              "      <td>NaN</td>\n",
              "      <td>NaN</td>\n",
              "    </tr>\n",
              "    <tr>\n",
              "      <th>3</th>\n",
              "      <td>1325318100</td>\n",
              "      <td>NaN</td>\n",
              "      <td>NaN</td>\n",
              "      <td>NaN</td>\n",
              "      <td>NaN</td>\n",
              "      <td>NaN</td>\n",
              "      <td>NaN</td>\n",
              "      <td>NaN</td>\n",
              "    </tr>\n",
              "    <tr>\n",
              "      <th>4</th>\n",
              "      <td>1325318160</td>\n",
              "      <td>NaN</td>\n",
              "      <td>NaN</td>\n",
              "      <td>NaN</td>\n",
              "      <td>NaN</td>\n",
              "      <td>NaN</td>\n",
              "      <td>NaN</td>\n",
              "      <td>NaN</td>\n",
              "    </tr>\n",
              "  </tbody>\n",
              "</table>\n",
              "</div>"
            ],
            "text/plain": [
              "    Timestamp  Open  High  ...  Volume_(BTC)  Volume_(Currency)  Weighted_Price\n",
              "0  1325317920  4.39  4.39  ...      0.455581                2.0            4.39\n",
              "1  1325317980   NaN   NaN  ...           NaN                NaN             NaN\n",
              "2  1325318040   NaN   NaN  ...           NaN                NaN             NaN\n",
              "3  1325318100   NaN   NaN  ...           NaN                NaN             NaN\n",
              "4  1325318160   NaN   NaN  ...           NaN                NaN             NaN\n",
              "\n",
              "[5 rows x 8 columns]"
            ]
          },
          "metadata": {
            "tags": []
          },
          "execution_count": 4
        }
      ]
    },
    {
      "cell_type": "code",
      "metadata": {
        "colab": {
          "base_uri": "https://localhost:8080/"
        },
        "id": "RgZNdDVNaI8Z",
        "outputId": "a0c77ba4-9763-484b-a925-797f0ad4daad"
      },
      "source": [
        "print(type(df))"
      ],
      "execution_count": null,
      "outputs": [
        {
          "output_type": "stream",
          "text": [
            "<class 'pandas.core.frame.DataFrame'>\n"
          ],
          "name": "stdout"
        }
      ]
    },
    {
      "cell_type": "code",
      "metadata": {
        "colab": {
          "base_uri": "https://localhost:8080/"
        },
        "id": "xSb_5V5NT-HL",
        "outputId": "4db26287-c6bd-430d-b50f-665410f86ffa"
      },
      "source": [
        "print(df.shape)"
      ],
      "execution_count": null,
      "outputs": [
        {
          "output_type": "stream",
          "text": [
            "(133789, 8)\n"
          ],
          "name": "stdout"
        }
      ]
    },
    {
      "cell_type": "markdown",
      "metadata": {
        "id": "TecxYZvqTuQZ"
      },
      "source": [
        "# **Timestamp to datetime**"
      ]
    },
    {
      "cell_type": "code",
      "metadata": {
        "id": "mDyeo9FGTty6"
      },
      "source": [
        "df['Timestamp'] = [datetime.fromtimestamp(x) for x in df['Timestamp']]\r\n",
        "df = df.set_index('Timestamp')"
      ],
      "execution_count": null,
      "outputs": []
    },
    {
      "cell_type": "code",
      "metadata": {
        "colab": {
          "base_uri": "https://localhost:8080/",
          "height": 450
        },
        "id": "5cAwuzByUqNf",
        "outputId": "3b820674-0c23-4ad1-8be4-03a84bf551dc"
      },
      "source": [
        "df.head(972)"
      ],
      "execution_count": null,
      "outputs": [
        {
          "output_type": "execute_result",
          "data": {
            "text/html": [
              "<div>\n",
              "<style scoped>\n",
              "    .dataframe tbody tr th:only-of-type {\n",
              "        vertical-align: middle;\n",
              "    }\n",
              "\n",
              "    .dataframe tbody tr th {\n",
              "        vertical-align: top;\n",
              "    }\n",
              "\n",
              "    .dataframe thead th {\n",
              "        text-align: right;\n",
              "    }\n",
              "</style>\n",
              "<table border=\"1\" class=\"dataframe\">\n",
              "  <thead>\n",
              "    <tr style=\"text-align: right;\">\n",
              "      <th></th>\n",
              "      <th>Open</th>\n",
              "      <th>High</th>\n",
              "      <th>Low</th>\n",
              "      <th>Close</th>\n",
              "      <th>Volume_(BTC)</th>\n",
              "      <th>Volume_(Currency)</th>\n",
              "      <th>Weighted_Price</th>\n",
              "    </tr>\n",
              "    <tr>\n",
              "      <th>Timestamp</th>\n",
              "      <th></th>\n",
              "      <th></th>\n",
              "      <th></th>\n",
              "      <th></th>\n",
              "      <th></th>\n",
              "      <th></th>\n",
              "      <th></th>\n",
              "    </tr>\n",
              "  </thead>\n",
              "  <tbody>\n",
              "    <tr>\n",
              "      <th>2011-12-31 07:52:00</th>\n",
              "      <td>4.39</td>\n",
              "      <td>4.39</td>\n",
              "      <td>4.39</td>\n",
              "      <td>4.39</td>\n",
              "      <td>0.455581</td>\n",
              "      <td>2.0</td>\n",
              "      <td>4.39</td>\n",
              "    </tr>\n",
              "    <tr>\n",
              "      <th>2011-12-31 07:53:00</th>\n",
              "      <td>NaN</td>\n",
              "      <td>NaN</td>\n",
              "      <td>NaN</td>\n",
              "      <td>NaN</td>\n",
              "      <td>NaN</td>\n",
              "      <td>NaN</td>\n",
              "      <td>NaN</td>\n",
              "    </tr>\n",
              "    <tr>\n",
              "      <th>2011-12-31 07:54:00</th>\n",
              "      <td>NaN</td>\n",
              "      <td>NaN</td>\n",
              "      <td>NaN</td>\n",
              "      <td>NaN</td>\n",
              "      <td>NaN</td>\n",
              "      <td>NaN</td>\n",
              "      <td>NaN</td>\n",
              "    </tr>\n",
              "    <tr>\n",
              "      <th>2011-12-31 07:55:00</th>\n",
              "      <td>NaN</td>\n",
              "      <td>NaN</td>\n",
              "      <td>NaN</td>\n",
              "      <td>NaN</td>\n",
              "      <td>NaN</td>\n",
              "      <td>NaN</td>\n",
              "      <td>NaN</td>\n",
              "    </tr>\n",
              "    <tr>\n",
              "      <th>2011-12-31 07:56:00</th>\n",
              "      <td>NaN</td>\n",
              "      <td>NaN</td>\n",
              "      <td>NaN</td>\n",
              "      <td>NaN</td>\n",
              "      <td>NaN</td>\n",
              "      <td>NaN</td>\n",
              "      <td>NaN</td>\n",
              "    </tr>\n",
              "    <tr>\n",
              "      <th>...</th>\n",
              "      <td>...</td>\n",
              "      <td>...</td>\n",
              "      <td>...</td>\n",
              "      <td>...</td>\n",
              "      <td>...</td>\n",
              "      <td>...</td>\n",
              "      <td>...</td>\n",
              "    </tr>\n",
              "    <tr>\n",
              "      <th>2011-12-31 23:59:00</th>\n",
              "      <td>NaN</td>\n",
              "      <td>NaN</td>\n",
              "      <td>NaN</td>\n",
              "      <td>NaN</td>\n",
              "      <td>NaN</td>\n",
              "      <td>NaN</td>\n",
              "      <td>NaN</td>\n",
              "    </tr>\n",
              "    <tr>\n",
              "      <th>2012-01-01 00:00:00</th>\n",
              "      <td>NaN</td>\n",
              "      <td>NaN</td>\n",
              "      <td>NaN</td>\n",
              "      <td>NaN</td>\n",
              "      <td>NaN</td>\n",
              "      <td>NaN</td>\n",
              "      <td>NaN</td>\n",
              "    </tr>\n",
              "    <tr>\n",
              "      <th>2012-01-01 00:01:00</th>\n",
              "      <td>NaN</td>\n",
              "      <td>NaN</td>\n",
              "      <td>NaN</td>\n",
              "      <td>NaN</td>\n",
              "      <td>NaN</td>\n",
              "      <td>NaN</td>\n",
              "      <td>NaN</td>\n",
              "    </tr>\n",
              "    <tr>\n",
              "      <th>2012-01-01 00:02:00</th>\n",
              "      <td>NaN</td>\n",
              "      <td>NaN</td>\n",
              "      <td>NaN</td>\n",
              "      <td>NaN</td>\n",
              "      <td>NaN</td>\n",
              "      <td>NaN</td>\n",
              "      <td>NaN</td>\n",
              "    </tr>\n",
              "    <tr>\n",
              "      <th>2012-01-01 00:03:00</th>\n",
              "      <td>NaN</td>\n",
              "      <td>NaN</td>\n",
              "      <td>NaN</td>\n",
              "      <td>NaN</td>\n",
              "      <td>NaN</td>\n",
              "      <td>NaN</td>\n",
              "      <td>NaN</td>\n",
              "    </tr>\n",
              "  </tbody>\n",
              "</table>\n",
              "<p>972 rows × 7 columns</p>\n",
              "</div>"
            ],
            "text/plain": [
              "                     Open  High  ...  Volume_(Currency)  Weighted_Price\n",
              "Timestamp                        ...                                   \n",
              "2011-12-31 07:52:00  4.39  4.39  ...                2.0            4.39\n",
              "2011-12-31 07:53:00   NaN   NaN  ...                NaN             NaN\n",
              "2011-12-31 07:54:00   NaN   NaN  ...                NaN             NaN\n",
              "2011-12-31 07:55:00   NaN   NaN  ...                NaN             NaN\n",
              "2011-12-31 07:56:00   NaN   NaN  ...                NaN             NaN\n",
              "...                   ...   ...  ...                ...             ...\n",
              "2011-12-31 23:59:00   NaN   NaN  ...                NaN             NaN\n",
              "2012-01-01 00:00:00   NaN   NaN  ...                NaN             NaN\n",
              "2012-01-01 00:01:00   NaN   NaN  ...                NaN             NaN\n",
              "2012-01-01 00:02:00   NaN   NaN  ...                NaN             NaN\n",
              "2012-01-01 00:03:00   NaN   NaN  ...                NaN             NaN\n",
              "\n",
              "[972 rows x 7 columns]"
            ]
          },
          "metadata": {
            "tags": []
          },
          "execution_count": 176
        }
      ]
    },
    {
      "cell_type": "code",
      "metadata": {
        "colab": {
          "base_uri": "https://localhost:8080/"
        },
        "id": "imZOSFr_fbvB",
        "outputId": "c82b2824-a97d-4444-9a71-f7ffe341a58f"
      },
      "source": [
        "def fill_missing(df):\r\n",
        "    ### function to impute missing values using interpolation ###\r\n",
        "    df['Open'] = df['Open'].interpolate()\r\n",
        "    df['Close'] = df['Close'].interpolate()\r\n",
        "    df['Weighted_Price'] = df['Weighted_Price'].interpolate()\r\n",
        "    df['Volume_(BTC)'] = df['Volume_(BTC)'].interpolate()\r\n",
        "    df['Volume_(Currency)'] = df['Volume_(Currency)'].interpolate()\r\n",
        "    df['High'] = df['High'].interpolate()\r\n",
        "    df['Low'] = df['Low'].interpolate()\r\n",
        "    print(df.head())\r\n",
        "    print(df.isnull().sum())\r\n",
        "fill_missing(df)"
      ],
      "execution_count": null,
      "outputs": [
        {
          "output_type": "stream",
          "text": [
            "                     Open  High  ...  Volume_(Currency)  Weighted_Price\n",
            "Timestamp                        ...                                   \n",
            "2011-12-31 07:52:00  4.39  4.39  ...           2.000000            4.39\n",
            "2011-12-31 07:53:00  4.39  4.39  ...           2.436653            4.39\n",
            "2011-12-31 07:54:00  4.39  4.39  ...           2.873305            4.39\n",
            "2011-12-31 07:55:00  4.39  4.39  ...           3.309958            4.39\n",
            "2011-12-31 07:56:00  4.39  4.39  ...           3.746611            4.39\n",
            "\n",
            "[5 rows x 7 columns]\n",
            "Open                 0\n",
            "High                 0\n",
            "Low                  0\n",
            "Close                0\n",
            "Volume_(BTC)         0\n",
            "Volume_(Currency)    0\n",
            "Weighted_Price       0\n",
            "dtype: int64\n"
          ],
          "name": "stdout"
        }
      ]
    },
    {
      "cell_type": "code",
      "metadata": {
        "colab": {
          "base_uri": "https://localhost:8080/",
          "height": 450
        },
        "id": "FyZz7WeJfkHn",
        "outputId": "a1da2604-df82-45a5-c9ba-688341cb2dc9"
      },
      "source": [
        "df.head(968)"
      ],
      "execution_count": null,
      "outputs": [
        {
          "output_type": "execute_result",
          "data": {
            "text/html": [
              "<div>\n",
              "<style scoped>\n",
              "    .dataframe tbody tr th:only-of-type {\n",
              "        vertical-align: middle;\n",
              "    }\n",
              "\n",
              "    .dataframe tbody tr th {\n",
              "        vertical-align: top;\n",
              "    }\n",
              "\n",
              "    .dataframe thead th {\n",
              "        text-align: right;\n",
              "    }\n",
              "</style>\n",
              "<table border=\"1\" class=\"dataframe\">\n",
              "  <thead>\n",
              "    <tr style=\"text-align: right;\">\n",
              "      <th></th>\n",
              "      <th>Open</th>\n",
              "      <th>High</th>\n",
              "      <th>Low</th>\n",
              "      <th>Close</th>\n",
              "      <th>Volume_(BTC)</th>\n",
              "      <th>Volume_(Currency)</th>\n",
              "      <th>Weighted_Price</th>\n",
              "    </tr>\n",
              "    <tr>\n",
              "      <th>Timestamp</th>\n",
              "      <th></th>\n",
              "      <th></th>\n",
              "      <th></th>\n",
              "      <th></th>\n",
              "      <th></th>\n",
              "      <th></th>\n",
              "      <th></th>\n",
              "    </tr>\n",
              "  </thead>\n",
              "  <tbody>\n",
              "    <tr>\n",
              "      <th>2011-12-31 07:52:00</th>\n",
              "      <td>4.39</td>\n",
              "      <td>4.39</td>\n",
              "      <td>4.39</td>\n",
              "      <td>4.39</td>\n",
              "      <td>0.455581</td>\n",
              "      <td>2.000000</td>\n",
              "      <td>4.39</td>\n",
              "    </tr>\n",
              "    <tr>\n",
              "      <th>2011-12-31 07:53:00</th>\n",
              "      <td>4.39</td>\n",
              "      <td>4.39</td>\n",
              "      <td>4.39</td>\n",
              "      <td>4.39</td>\n",
              "      <td>0.555046</td>\n",
              "      <td>2.436653</td>\n",
              "      <td>4.39</td>\n",
              "    </tr>\n",
              "    <tr>\n",
              "      <th>2011-12-31 07:54:00</th>\n",
              "      <td>4.39</td>\n",
              "      <td>4.39</td>\n",
              "      <td>4.39</td>\n",
              "      <td>4.39</td>\n",
              "      <td>0.654511</td>\n",
              "      <td>2.873305</td>\n",
              "      <td>4.39</td>\n",
              "    </tr>\n",
              "    <tr>\n",
              "      <th>2011-12-31 07:55:00</th>\n",
              "      <td>4.39</td>\n",
              "      <td>4.39</td>\n",
              "      <td>4.39</td>\n",
              "      <td>4.39</td>\n",
              "      <td>0.753977</td>\n",
              "      <td>3.309958</td>\n",
              "      <td>4.39</td>\n",
              "    </tr>\n",
              "    <tr>\n",
              "      <th>2011-12-31 07:56:00</th>\n",
              "      <td>4.39</td>\n",
              "      <td>4.39</td>\n",
              "      <td>4.39</td>\n",
              "      <td>4.39</td>\n",
              "      <td>0.853442</td>\n",
              "      <td>3.746611</td>\n",
              "      <td>4.39</td>\n",
              "    </tr>\n",
              "    <tr>\n",
              "      <th>...</th>\n",
              "      <td>...</td>\n",
              "      <td>...</td>\n",
              "      <td>...</td>\n",
              "      <td>...</td>\n",
              "      <td>...</td>\n",
              "      <td>...</td>\n",
              "      <td>...</td>\n",
              "    </tr>\n",
              "    <tr>\n",
              "      <th>2011-12-31 23:55:00</th>\n",
              "      <td>4.58</td>\n",
              "      <td>4.58</td>\n",
              "      <td>4.58</td>\n",
              "      <td>4.58</td>\n",
              "      <td>4.396938</td>\n",
              "      <td>20.137975</td>\n",
              "      <td>4.58</td>\n",
              "    </tr>\n",
              "    <tr>\n",
              "      <th>2011-12-31 23:56:00</th>\n",
              "      <td>4.58</td>\n",
              "      <td>4.58</td>\n",
              "      <td>4.58</td>\n",
              "      <td>4.58</td>\n",
              "      <td>4.385846</td>\n",
              "      <td>20.087175</td>\n",
              "      <td>4.58</td>\n",
              "    </tr>\n",
              "    <tr>\n",
              "      <th>2011-12-31 23:57:00</th>\n",
              "      <td>4.58</td>\n",
              "      <td>4.58</td>\n",
              "      <td>4.58</td>\n",
              "      <td>4.58</td>\n",
              "      <td>4.374754</td>\n",
              "      <td>20.036375</td>\n",
              "      <td>4.58</td>\n",
              "    </tr>\n",
              "    <tr>\n",
              "      <th>2011-12-31 23:58:00</th>\n",
              "      <td>4.58</td>\n",
              "      <td>4.58</td>\n",
              "      <td>4.58</td>\n",
              "      <td>4.58</td>\n",
              "      <td>4.363663</td>\n",
              "      <td>19.985575</td>\n",
              "      <td>4.58</td>\n",
              "    </tr>\n",
              "    <tr>\n",
              "      <th>2011-12-31 23:59:00</th>\n",
              "      <td>4.58</td>\n",
              "      <td>4.58</td>\n",
              "      <td>4.58</td>\n",
              "      <td>4.58</td>\n",
              "      <td>4.352571</td>\n",
              "      <td>19.934775</td>\n",
              "      <td>4.58</td>\n",
              "    </tr>\n",
              "  </tbody>\n",
              "</table>\n",
              "<p>968 rows × 7 columns</p>\n",
              "</div>"
            ],
            "text/plain": [
              "                     Open  High  ...  Volume_(Currency)  Weighted_Price\n",
              "Timestamp                        ...                                   \n",
              "2011-12-31 07:52:00  4.39  4.39  ...           2.000000            4.39\n",
              "2011-12-31 07:53:00  4.39  4.39  ...           2.436653            4.39\n",
              "2011-12-31 07:54:00  4.39  4.39  ...           2.873305            4.39\n",
              "2011-12-31 07:55:00  4.39  4.39  ...           3.309958            4.39\n",
              "2011-12-31 07:56:00  4.39  4.39  ...           3.746611            4.39\n",
              "...                   ...   ...  ...                ...             ...\n",
              "2011-12-31 23:55:00  4.58  4.58  ...          20.137975            4.58\n",
              "2011-12-31 23:56:00  4.58  4.58  ...          20.087175            4.58\n",
              "2011-12-31 23:57:00  4.58  4.58  ...          20.036375            4.58\n",
              "2011-12-31 23:58:00  4.58  4.58  ...          19.985575            4.58\n",
              "2011-12-31 23:59:00  4.58  4.58  ...          19.934775            4.58\n",
              "\n",
              "[968 rows x 7 columns]"
            ]
          },
          "metadata": {
            "tags": []
          },
          "execution_count": 178
        }
      ]
    },
    {
      "cell_type": "code",
      "metadata": {
        "colab": {
          "base_uri": "https://localhost:8080/"
        },
        "id": "pu8xTNWTfqzv",
        "outputId": "64746f6a-fc33-427a-9f58-7b8b1aa0483b"
      },
      "source": [
        "print(df['Open'])"
      ],
      "execution_count": null,
      "outputs": [
        {
          "output_type": "stream",
          "text": [
            "Timestamp\n",
            "2011-12-31 07:52:00        4.39\n",
            "2011-12-31 07:53:00        4.39\n",
            "2011-12-31 07:54:00        4.39\n",
            "2011-12-31 07:55:00        4.39\n",
            "2011-12-31 07:56:00        4.39\n",
            "                         ...   \n",
            "2020-12-30 23:56:00    28801.47\n",
            "2020-12-30 23:57:00    28829.42\n",
            "2020-12-30 23:58:00    28850.49\n",
            "2020-12-30 23:59:00    28910.54\n",
            "2020-12-31 00:00:00    28893.21\n",
            "Name: Open, Length: 4727777, dtype: float64\n"
          ],
          "name": "stdout"
        }
      ]
    },
    {
      "cell_type": "markdown",
      "metadata": {
        "id": "oqsknBI66uQb"
      },
      "source": [
        "# **Analiza coloane**"
      ]
    },
    {
      "cell_type": "code",
      "metadata": {
        "colab": {
          "base_uri": "https://localhost:8080/"
        },
        "id": "MWsltDu642yQ",
        "outputId": "4579c817-22f4-419c-d6f1-1b050360e625"
      },
      "source": [
        "print('Analiza Volume_(BTC)')\r\n",
        "s1 = pd.Series(df['Volume_(BTC)'])\r\n",
        "print(s1.describe())\r\n",
        "print()\r\n",
        "print('Analiza Volume_(Currency)')\r\n",
        "s2 = pd.Series(df['Volume_(Currency)'])\r\n",
        "print(s2.describe())\r\n",
        "print()\r\n",
        "print('Analiza Pret mediu')\r\n",
        "s3 = pd.Series(df['Weighted_Price'])\r\n",
        "print(s3.describe())"
      ],
      "execution_count": 256,
      "outputs": [
        {
          "output_type": "stream",
          "text": [
            "Analiza Volume_(BTC)\n",
            "count    4.727777e+06\n",
            "mean     9.615093e+00\n",
            "std      3.012508e+01\n",
            "min      0.000000e+00\n",
            "25%      4.943267e-01\n",
            "50%      2.193252e+00\n",
            "75%      8.046000e+00\n",
            "max      5.853852e+03\n",
            "Name: Volume_(BTC), dtype: float64\n",
            "\n",
            "Analiza Volume_(Currency)\n",
            "count    4.727777e+06\n",
            "mean     2.480696e+04\n",
            "std      9.800970e+04\n",
            "min      0.000000e+00\n",
            "25%      1.622581e+02\n",
            "50%      1.272516e+03\n",
            "75%      1.189739e+04\n",
            "max      1.044599e+07\n",
            "Name: Volume_(Currency), dtype: float64\n",
            "\n",
            "Analiza Pret mediu\n",
            "count    4.727777e+06\n",
            "mean     3.491789e+03\n",
            "std      4.528824e+03\n",
            "min      3.800000e+00\n",
            "25%      2.408431e+02\n",
            "50%      6.557674e+02\n",
            "75%      6.757759e+03\n",
            "max      2.898589e+04\n",
            "Name: Weighted_Price, dtype: float64\n"
          ],
          "name": "stdout"
        }
      ]
    },
    {
      "cell_type": "markdown",
      "metadata": {
        "id": "nt7OU0nh5_Xv"
      },
      "source": [
        "# **Analiza statistica chunks**"
      ]
    },
    {
      "cell_type": "code",
      "metadata": {
        "colab": {
          "base_uri": "https://localhost:8080/"
        },
        "id": "2sjI3oiY5-wT",
        "outputId": "6088d521-6420-475f-8a10-61da272bfd12"
      },
      "source": [
        "chunks = pd.read_csv('BitcoinUSD.csv',chunksize=1000000)\r\n",
        "for i, c in enumerate(chunks):\r\n",
        "    print(f'Statistica pt partea {i} avand num el {len(c)} :\\n{c.describe()}\\n')"
      ],
      "execution_count": 260,
      "outputs": [
        {
          "output_type": "stream",
          "text": [
            "Statistica pt partea 0 avand num el 1000000 :\n",
            "          Timestamp           Open  ...  Volume_(Currency)  Weighted_Price\n",
            "count  1.000000e+06  295955.000000  ...      295955.000000   295955.000000\n",
            "mean   1.355318e+09     135.310713  ...        2320.234664      135.292462\n",
            "std    1.732052e+07     124.729307  ...       10102.412845      124.707306\n",
            "min    1.325318e+09       3.800000  ...           0.000000        3.800000\n",
            "25%    1.340318e+09      89.640000  ...          83.060000       89.629441\n",
            "50%    1.355318e+09     115.990000  ...         242.509999      115.970000\n",
            "75%    1.370318e+09     130.160000  ...        1087.086592      130.120000\n",
            "max    1.385318e+09     874.810000  ...      703452.627230      874.754924\n",
            "\n",
            "[8 rows x 8 columns]\n",
            "\n",
            "Statistica pt partea 1 avand num el 1000000 :\n",
            "          Timestamp           Open  ...  Volume_(Currency)  Weighted_Price\n",
            "count  1.000000e+06  743073.000000  ...       7.430730e+05   743073.000000\n",
            "mean   1.415479e+09     436.248054  ...       6.006742e+03      436.224080\n",
            "std    1.748403e+07     206.057315  ...       2.250181e+04      206.035047\n",
            "min    1.385318e+09     153.050000  ...       0.000000e+00      156.654520\n",
            "25%    1.400318e+09     248.720000  ...       1.587085e+02      248.705626\n",
            "50%    1.415318e+09     377.000000  ...       7.970507e+02      377.000000\n",
            "75%    1.430706e+09     588.000000  ...       3.642191e+03      588.000000\n",
            "max    1.445706e+09    1163.000000  ...       1.865889e+06     1162.999574\n",
            "\n",
            "[8 rows x 8 columns]\n",
            "\n",
            "Statistica pt partea 2 avand num el 1000000 :\n",
            "          Timestamp           Open  ...  Volume_(Currency)  Weighted_Price\n",
            "count  1.000000e+06  765005.000000  ...       7.650050e+05   765005.000000\n",
            "mean   1.475706e+09    1229.836977  ...       1.147408e+04     1229.758113\n",
            "std    1.732052e+07    1102.501413  ...       3.685490e+04     1102.369469\n",
            "min    1.445706e+09     279.120000  ...       0.000000e+00      279.120000\n",
            "25%    1.460706e+09     445.110000  ...       1.919350e+02      445.059088\n",
            "50%    1.475706e+09     728.910000  ...       1.246855e+03      728.910000\n",
            "75%    1.490706e+09    1463.000000  ...       7.980050e+03     1462.988231\n",
            "max    1.505706e+09    4979.890000  ...       4.339350e+06     4979.429180\n",
            "\n",
            "[8 rows x 8 columns]\n",
            "\n",
            "Statistica pt partea 3 avand num el 1000000 :\n",
            "          Timestamp           Open  ...  Volume_(Currency)  Weighted_Price\n",
            "count  1.000000e+06  964070.000000  ...       9.640700e+05   964070.000000\n",
            "mean   1.535706e+09    7451.094577  ...       6.273026e+04     7450.720515\n",
            "std    1.732052e+07    3073.094110  ...       1.520318e+05     3072.704001\n",
            "min    1.505706e+09    3124.450000  ...       3.402300e-05     3124.042815\n",
            "25%    1.520706e+09    5256.420000  ...       3.509031e+03     5256.403319\n",
            "50%    1.535706e+09    6799.990000  ...       1.644443e+04     6799.327153\n",
            "75%    1.550706e+09    9019.927500  ...       5.711195e+04     9018.981511\n",
            "max    1.565706e+09   19665.760000  ...       7.569437e+06    19663.298888\n",
            "\n",
            "[8 rows x 8 columns]\n",
            "\n",
            "Statistica pt partea 4 avand num el 727777 :\n",
            "          Timestamp           Open  ...  Volume_(Currency)  Weighted_Price\n",
            "count  7.277770e+05  716202.000000  ...       7.162020e+05   716202.000000\n",
            "mean   1.587540e+09   10384.148701  ...       5.742034e+04    10384.609441\n",
            "std    1.260548e+07    3757.358489  ...       1.595794e+05     3757.298670\n",
            "min    1.565706e+09    3858.270000  ...       9.133420e-04     3875.980373\n",
            "25%    1.576623e+09    8234.482500  ...       2.110416e+03     8235.001899\n",
            "50%    1.587540e+09    9435.000000  ...       1.270078e+04     9435.466110\n",
            "75%    1.598456e+09   10883.360000  ...       4.970016e+04    10883.886517\n",
            "max    1.609373e+09   28997.380000  ...       1.044599e+07    28985.885528\n",
            "\n",
            "[8 rows x 8 columns]\n",
            "\n"
          ],
          "name": "stdout"
        }
      ]
    },
    {
      "cell_type": "code",
      "metadata": {
        "id": "zZuvNWmq5-tx"
      },
      "source": [
        ""
      ],
      "execution_count": null,
      "outputs": []
    },
    {
      "cell_type": "markdown",
      "metadata": {
        "id": "gcOM64McUhrz"
      },
      "source": [
        "# **Resampling**"
      ]
    },
    {
      "cell_type": "code",
      "metadata": {
        "colab": {
          "base_uri": "https://localhost:8080/",
          "height": 450
        },
        "id": "D9mqNzuyUjKy",
        "outputId": "216d69ee-351e-4d95-e69c-21a746729359"
      },
      "source": [
        "df_daily = df.resample(\"24H\").mean() \r\n",
        "# print(df_daily.shape)\r\n",
        "df_daily.head(1753)"
      ],
      "execution_count": null,
      "outputs": [
        {
          "output_type": "execute_result",
          "data": {
            "text/html": [
              "<div>\n",
              "<style scoped>\n",
              "    .dataframe tbody tr th:only-of-type {\n",
              "        vertical-align: middle;\n",
              "    }\n",
              "\n",
              "    .dataframe tbody tr th {\n",
              "        vertical-align: top;\n",
              "    }\n",
              "\n",
              "    .dataframe thead th {\n",
              "        text-align: right;\n",
              "    }\n",
              "</style>\n",
              "<table border=\"1\" class=\"dataframe\">\n",
              "  <thead>\n",
              "    <tr style=\"text-align: right;\">\n",
              "      <th></th>\n",
              "      <th>Open</th>\n",
              "      <th>High</th>\n",
              "      <th>Low</th>\n",
              "      <th>Close</th>\n",
              "      <th>Volume_(BTC)</th>\n",
              "      <th>Volume_(Currency)</th>\n",
              "      <th>Weighted_Price</th>\n",
              "    </tr>\n",
              "    <tr>\n",
              "      <th>Timestamp</th>\n",
              "      <th></th>\n",
              "      <th></th>\n",
              "      <th></th>\n",
              "      <th></th>\n",
              "      <th></th>\n",
              "      <th></th>\n",
              "      <th></th>\n",
              "    </tr>\n",
              "  </thead>\n",
              "  <tbody>\n",
              "    <tr>\n",
              "      <th>2011-12-31</th>\n",
              "      <td>4.476415</td>\n",
              "      <td>4.478946</td>\n",
              "      <td>4.476415</td>\n",
              "      <td>4.478946</td>\n",
              "      <td>17.940426</td>\n",
              "      <td>79.495594</td>\n",
              "      <td>4.477370</td>\n",
              "    </tr>\n",
              "    <tr>\n",
              "      <th>2012-01-01</th>\n",
              "      <td>4.765576</td>\n",
              "      <td>4.765576</td>\n",
              "      <td>4.765576</td>\n",
              "      <td>4.765576</td>\n",
              "      <td>6.790640</td>\n",
              "      <td>32.971105</td>\n",
              "      <td>4.765576</td>\n",
              "    </tr>\n",
              "    <tr>\n",
              "      <th>2012-01-02</th>\n",
              "      <td>5.006549</td>\n",
              "      <td>5.006549</td>\n",
              "      <td>5.006549</td>\n",
              "      <td>5.006549</td>\n",
              "      <td>15.183373</td>\n",
              "      <td>75.932706</td>\n",
              "      <td>5.006549</td>\n",
              "    </tr>\n",
              "    <tr>\n",
              "      <th>2012-01-03</th>\n",
              "      <td>5.206530</td>\n",
              "      <td>5.206530</td>\n",
              "      <td>5.206530</td>\n",
              "      <td>5.206530</td>\n",
              "      <td>7.917041</td>\n",
              "      <td>40.795994</td>\n",
              "      <td>5.206530</td>\n",
              "    </tr>\n",
              "    <tr>\n",
              "      <th>2012-01-04</th>\n",
              "      <td>5.202511</td>\n",
              "      <td>5.241699</td>\n",
              "      <td>5.202511</td>\n",
              "      <td>5.241699</td>\n",
              "      <td>13.659736</td>\n",
              "      <td>72.860096</td>\n",
              "      <td>5.216680</td>\n",
              "    </tr>\n",
              "    <tr>\n",
              "      <th>...</th>\n",
              "      <td>...</td>\n",
              "      <td>...</td>\n",
              "      <td>...</td>\n",
              "      <td>...</td>\n",
              "      <td>...</td>\n",
              "      <td>...</td>\n",
              "      <td>...</td>\n",
              "    </tr>\n",
              "    <tr>\n",
              "      <th>2016-10-13</th>\n",
              "      <td>634.899913</td>\n",
              "      <td>634.999354</td>\n",
              "      <td>634.756417</td>\n",
              "      <td>634.872594</td>\n",
              "      <td>3.145319</td>\n",
              "      <td>1995.120768</td>\n",
              "      <td>634.883286</td>\n",
              "    </tr>\n",
              "    <tr>\n",
              "      <th>2016-10-14</th>\n",
              "      <td>635.570410</td>\n",
              "      <td>635.661715</td>\n",
              "      <td>635.458306</td>\n",
              "      <td>635.559913</td>\n",
              "      <td>3.677855</td>\n",
              "      <td>2334.775037</td>\n",
              "      <td>635.554153</td>\n",
              "    </tr>\n",
              "    <tr>\n",
              "      <th>2016-10-15</th>\n",
              "      <td>638.506274</td>\n",
              "      <td>638.677132</td>\n",
              "      <td>638.282382</td>\n",
              "      <td>638.437965</td>\n",
              "      <td>1.496872</td>\n",
              "      <td>956.095080</td>\n",
              "      <td>638.447419</td>\n",
              "    </tr>\n",
              "    <tr>\n",
              "      <th>2016-10-16</th>\n",
              "      <td>638.070281</td>\n",
              "      <td>638.184000</td>\n",
              "      <td>637.883847</td>\n",
              "      <td>637.995264</td>\n",
              "      <td>1.700024</td>\n",
              "      <td>1085.352855</td>\n",
              "      <td>638.028618</td>\n",
              "    </tr>\n",
              "    <tr>\n",
              "      <th>2016-10-17</th>\n",
              "      <td>636.187156</td>\n",
              "      <td>636.272941</td>\n",
              "      <td>636.068563</td>\n",
              "      <td>636.172951</td>\n",
              "      <td>4.125287</td>\n",
              "      <td>2622.809305</td>\n",
              "      <td>636.169486</td>\n",
              "    </tr>\n",
              "  </tbody>\n",
              "</table>\n",
              "<p>1753 rows × 7 columns</p>\n",
              "</div>"
            ],
            "text/plain": [
              "                  Open        High  ...  Volume_(Currency)  Weighted_Price\n",
              "Timestamp                           ...                                   \n",
              "2011-12-31    4.476415    4.478946  ...          79.495594        4.477370\n",
              "2012-01-01    4.765576    4.765576  ...          32.971105        4.765576\n",
              "2012-01-02    5.006549    5.006549  ...          75.932706        5.006549\n",
              "2012-01-03    5.206530    5.206530  ...          40.795994        5.206530\n",
              "2012-01-04    5.202511    5.241699  ...          72.860096        5.216680\n",
              "...                ...         ...  ...                ...             ...\n",
              "2016-10-13  634.899913  634.999354  ...        1995.120768      634.883286\n",
              "2016-10-14  635.570410  635.661715  ...        2334.775037      635.554153\n",
              "2016-10-15  638.506274  638.677132  ...         956.095080      638.447419\n",
              "2016-10-16  638.070281  638.184000  ...        1085.352855      638.028618\n",
              "2016-10-17  636.187156  636.272941  ...        2622.809305      636.169486\n",
              "\n",
              "[1753 rows x 7 columns]"
            ]
          },
          "metadata": {
            "tags": []
          },
          "execution_count": 180
        }
      ]
    },
    {
      "cell_type": "code",
      "metadata": {
        "colab": {
          "base_uri": "https://localhost:8080/"
        },
        "id": "f5r_R67TjYCk",
        "outputId": "dc1c7dbe-8a7d-42cf-ec31-5b95fccfb72b"
      },
      "source": [
        "print(df_daily['Open'])"
      ],
      "execution_count": null,
      "outputs": [
        {
          "output_type": "stream",
          "text": [
            "Timestamp\n",
            "2011-12-31        4.476415\n",
            "2012-01-01        4.765576\n",
            "2012-01-02        5.006549\n",
            "2012-01-03        5.206530\n",
            "2012-01-04        5.202511\n",
            "                  ...     \n",
            "2020-12-27    27045.516160\n",
            "2020-12-28    26963.081993\n",
            "2020-12-29    26671.013021\n",
            "2020-12-30    28141.217201\n",
            "2020-12-31    28893.210000\n",
            "Freq: 24H, Name: Open, Length: 3289, dtype: float64\n"
          ],
          "name": "stdout"
        }
      ]
    },
    {
      "cell_type": "code",
      "metadata": {
        "colab": {
          "base_uri": "https://localhost:8080/"
        },
        "id": "uKkv42MLjIfg",
        "outputId": "e257717c-2bbd-4467-82e3-c9954d4165e6"
      },
      "source": [
        "print(df_daily.columns)"
      ],
      "execution_count": null,
      "outputs": [
        {
          "output_type": "stream",
          "text": [
            "Index(['Open', 'High', 'Low', 'Close', 'Volume_(BTC)', 'Volume_(Currency)',\n",
            "       'Weighted_Price'],\n",
            "      dtype='object')\n"
          ],
          "name": "stdout"
        }
      ]
    },
    {
      "cell_type": "code",
      "metadata": {
        "colab": {
          "base_uri": "https://localhost:8080/"
        },
        "id": "idTaXJDflCGQ",
        "outputId": "5717a0c6-6302-46a1-d04f-8dcff17fc592"
      },
      "source": [
        "df_daily['tmp'] = df_daily.index\r\n",
        "print(df_daily)"
      ],
      "execution_count": null,
      "outputs": [
        {
          "output_type": "stream",
          "text": [
            "                    Open          High  ...  Weighted_Price        tmp\n",
            "Timestamp                               ...                           \n",
            "2011-12-31      4.476415      4.478946  ...        4.477370 2011-12-31\n",
            "2012-01-01      4.765576      4.765576  ...        4.765576 2012-01-01\n",
            "2012-01-02      5.006549      5.006549  ...        5.006549 2012-01-02\n",
            "2012-01-03      5.206530      5.206530  ...        5.206530 2012-01-03\n",
            "2012-01-04      5.202511      5.241699  ...        5.216680 2012-01-04\n",
            "...                  ...           ...  ...             ...        ...\n",
            "2020-12-27  27045.516160  27071.948215  ...    27043.386470 2020-12-27\n",
            "2020-12-28  26963.081993  26984.362924  ...    26964.020499 2020-12-28\n",
            "2020-12-29  26671.013021  26689.382486  ...    26671.008099 2020-12-29\n",
            "2020-12-30  28141.217201  28164.193854  ...    28141.234408 2020-12-30\n",
            "2020-12-31  28893.210000  28928.490000  ...    28909.166061 2020-12-31\n",
            "\n",
            "[3289 rows x 8 columns]\n"
          ],
          "name": "stdout"
        }
      ]
    },
    {
      "cell_type": "code",
      "metadata": {
        "colab": {
          "base_uri": "https://localhost:8080/"
        },
        "id": "KTdkaHjPmUM9",
        "outputId": "c7722521-bb72-47e5-9384-1405ac48c0f3"
      },
      "source": [
        "# Verificare elemente nule\r\n",
        "df_daily['tmp'].isnull().sum()"
      ],
      "execution_count": null,
      "outputs": [
        {
          "output_type": "execute_result",
          "data": {
            "text/plain": [
              "0"
            ]
          },
          "metadata": {
            "tags": []
          },
          "execution_count": 184
        }
      ]
    },
    {
      "cell_type": "code",
      "metadata": {
        "colab": {
          "base_uri": "https://localhost:8080/"
        },
        "id": "_loX74jvmwHN",
        "outputId": "8951caeb-e634-42aa-d85b-7d30a9d914a8"
      },
      "source": [
        "print(df_daily['tmp'].values)\r\n",
        "df_daily['tmp'].values.reshape(-1,1)"
      ],
      "execution_count": null,
      "outputs": [
        {
          "output_type": "stream",
          "text": [
            "['2011-12-31T00:00:00.000000000' '2012-01-01T00:00:00.000000000'\n",
            " '2012-01-02T00:00:00.000000000' ... '2020-12-29T00:00:00.000000000'\n",
            " '2020-12-30T00:00:00.000000000' '2020-12-31T00:00:00.000000000']\n"
          ],
          "name": "stdout"
        },
        {
          "output_type": "execute_result",
          "data": {
            "text/plain": [
              "array([['2011-12-31T00:00:00.000000000'],\n",
              "       ['2012-01-01T00:00:00.000000000'],\n",
              "       ['2012-01-02T00:00:00.000000000'],\n",
              "       ...,\n",
              "       ['2020-12-29T00:00:00.000000000'],\n",
              "       ['2020-12-30T00:00:00.000000000'],\n",
              "       ['2020-12-31T00:00:00.000000000']], dtype='datetime64[ns]')"
            ]
          },
          "metadata": {
            "tags": []
          },
          "execution_count": 185
        }
      ]
    },
    {
      "cell_type": "code",
      "metadata": {
        "colab": {
          "base_uri": "https://localhost:8080/"
        },
        "id": "kA-waO5AnNiI",
        "outputId": "79ac482b-bcc7-4313-ef47-30af3f709d6b"
      },
      "source": [
        "df_daily['Weighted_Price'].isnull().sum()"
      ],
      "execution_count": null,
      "outputs": [
        {
          "output_type": "execute_result",
          "data": {
            "text/plain": [
              "3"
            ]
          },
          "metadata": {
            "tags": []
          },
          "execution_count": 186
        }
      ]
    },
    {
      "cell_type": "code",
      "metadata": {
        "colab": {
          "base_uri": "https://localhost:8080/"
        },
        "id": "nEGwbJltqOEc",
        "outputId": "f4f94922-65fa-4ee3-eed3-f56f86657a74"
      },
      "source": [
        "df_daily.isnull().sum()"
      ],
      "execution_count": null,
      "outputs": [
        {
          "output_type": "execute_result",
          "data": {
            "text/plain": [
              "Open                 3\n",
              "High                 3\n",
              "Low                  3\n",
              "Close                3\n",
              "Volume_(BTC)         3\n",
              "Volume_(Currency)    3\n",
              "Weighted_Price       3\n",
              "tmp                  0\n",
              "dtype: int64"
            ]
          },
          "metadata": {
            "tags": []
          },
          "execution_count": 187
        }
      ]
    },
    {
      "cell_type": "code",
      "metadata": {
        "id": "MvejIoHvn7xB"
      },
      "source": [
        "df_daily.dropna(inplace=True)"
      ],
      "execution_count": null,
      "outputs": []
    },
    {
      "cell_type": "code",
      "metadata": {
        "colab": {
          "base_uri": "https://localhost:8080/"
        },
        "id": "-RVzFcYToZlh",
        "outputId": "4cf1c6b9-df57-4d0c-feba-dba61a7a0df9"
      },
      "source": [
        "df_daily.isnull().sum()"
      ],
      "execution_count": null,
      "outputs": [
        {
          "output_type": "execute_result",
          "data": {
            "text/plain": [
              "Open                 0\n",
              "High                 0\n",
              "Low                  0\n",
              "Close                0\n",
              "Volume_(BTC)         0\n",
              "Volume_(Currency)    0\n",
              "Weighted_Price       0\n",
              "tmp                  0\n",
              "dtype: int64"
            ]
          },
          "metadata": {
            "tags": []
          },
          "execution_count": 189
        }
      ]
    },
    {
      "cell_type": "markdown",
      "metadata": {
        "id": "SsrkijgO7zeL"
      },
      "source": [
        "# **Dataset yearly**"
      ]
    },
    {
      "cell_type": "code",
      "metadata": {
        "colab": {
          "base_uri": "https://localhost:8080/",
          "height": 235
        },
        "id": "6vh89KSawANf",
        "outputId": "1b8cf170-2f72-4b5d-94cb-baf040438974"
      },
      "source": [
        "df_yearly = df.resample('12M').mean()\r\n",
        "df_yearly.head()"
      ],
      "execution_count": null,
      "outputs": [
        {
          "output_type": "execute_result",
          "data": {
            "text/html": [
              "<div>\n",
              "<style scoped>\n",
              "    .dataframe tbody tr th:only-of-type {\n",
              "        vertical-align: middle;\n",
              "    }\n",
              "\n",
              "    .dataframe tbody tr th {\n",
              "        vertical-align: top;\n",
              "    }\n",
              "\n",
              "    .dataframe thead th {\n",
              "        text-align: right;\n",
              "    }\n",
              "</style>\n",
              "<table border=\"1\" class=\"dataframe\">\n",
              "  <thead>\n",
              "    <tr style=\"text-align: right;\">\n",
              "      <th></th>\n",
              "      <th>Open</th>\n",
              "      <th>High</th>\n",
              "      <th>Low</th>\n",
              "      <th>Close</th>\n",
              "      <th>Volume_(BTC)</th>\n",
              "      <th>Volume_(Currency)</th>\n",
              "      <th>Weighted_Price</th>\n",
              "    </tr>\n",
              "    <tr>\n",
              "      <th>Timestamp</th>\n",
              "      <th></th>\n",
              "      <th></th>\n",
              "      <th></th>\n",
              "      <th></th>\n",
              "      <th></th>\n",
              "      <th></th>\n",
              "      <th></th>\n",
              "    </tr>\n",
              "  </thead>\n",
              "  <tbody>\n",
              "    <tr>\n",
              "      <th>2011-12-31</th>\n",
              "      <td>4.476415</td>\n",
              "      <td>4.478946</td>\n",
              "      <td>4.476415</td>\n",
              "      <td>4.478946</td>\n",
              "      <td>17.940426</td>\n",
              "      <td>79.495594</td>\n",
              "      <td>4.477370</td>\n",
              "    </tr>\n",
              "    <tr>\n",
              "      <th>2012-12-31</th>\n",
              "      <td>8.233084</td>\n",
              "      <td>8.235009</td>\n",
              "      <td>8.230306</td>\n",
              "      <td>8.232210</td>\n",
              "      <td>16.377516</td>\n",
              "      <td>139.649586</td>\n",
              "      <td>8.232582</td>\n",
              "    </tr>\n",
              "    <tr>\n",
              "      <th>2013-12-31</th>\n",
              "      <td>187.436306</td>\n",
              "      <td>187.681208</td>\n",
              "      <td>187.161517</td>\n",
              "      <td>187.426512</td>\n",
              "      <td>13.915605</td>\n",
              "      <td>3219.400491</td>\n",
              "      <td>187.412080</td>\n",
              "    </tr>\n",
              "    <tr>\n",
              "      <th>2014-12-31</th>\n",
              "      <td>525.561363</td>\n",
              "      <td>525.949363</td>\n",
              "      <td>525.162274</td>\n",
              "      <td>525.567830</td>\n",
              "      <td>10.702176</td>\n",
              "      <td>5560.020283</td>\n",
              "      <td>525.544492</td>\n",
              "    </tr>\n",
              "    <tr>\n",
              "      <th>2015-12-31</th>\n",
              "      <td>272.196050</td>\n",
              "      <td>272.316483</td>\n",
              "      <td>272.062738</td>\n",
              "      <td>272.194502</td>\n",
              "      <td>12.411528</td>\n",
              "      <td>3445.986390</td>\n",
              "      <td>272.185093</td>\n",
              "    </tr>\n",
              "  </tbody>\n",
              "</table>\n",
              "</div>"
            ],
            "text/plain": [
              "                  Open        High  ...  Volume_(Currency)  Weighted_Price\n",
              "Timestamp                           ...                                   \n",
              "2011-12-31    4.476415    4.478946  ...          79.495594        4.477370\n",
              "2012-12-31    8.233084    8.235009  ...         139.649586        8.232582\n",
              "2013-12-31  187.436306  187.681208  ...        3219.400491      187.412080\n",
              "2014-12-31  525.561363  525.949363  ...        5560.020283      525.544492\n",
              "2015-12-31  272.196050  272.316483  ...        3445.986390      272.185093\n",
              "\n",
              "[5 rows x 7 columns]"
            ]
          },
          "metadata": {
            "tags": []
          },
          "execution_count": 201
        }
      ]
    },
    {
      "cell_type": "markdown",
      "metadata": {
        "id": "EvxdUGDL74u_"
      },
      "source": [
        "# **Dataset Montly**"
      ]
    },
    {
      "cell_type": "code",
      "metadata": {
        "colab": {
          "base_uri": "https://localhost:8080/",
          "height": 235
        },
        "id": "c2vvBIDuwSaD",
        "outputId": "60ac3709-b7d3-420e-a5f1-677cc8e47d9b"
      },
      "source": [
        "df_monthly = df.resample('1M').mean()\r\n",
        "df_monthly.head()"
      ],
      "execution_count": null,
      "outputs": [
        {
          "output_type": "execute_result",
          "data": {
            "text/html": [
              "<div>\n",
              "<style scoped>\n",
              "    .dataframe tbody tr th:only-of-type {\n",
              "        vertical-align: middle;\n",
              "    }\n",
              "\n",
              "    .dataframe tbody tr th {\n",
              "        vertical-align: top;\n",
              "    }\n",
              "\n",
              "    .dataframe thead th {\n",
              "        text-align: right;\n",
              "    }\n",
              "</style>\n",
              "<table border=\"1\" class=\"dataframe\">\n",
              "  <thead>\n",
              "    <tr style=\"text-align: right;\">\n",
              "      <th></th>\n",
              "      <th>Open</th>\n",
              "      <th>High</th>\n",
              "      <th>Low</th>\n",
              "      <th>Close</th>\n",
              "      <th>Volume_(BTC)</th>\n",
              "      <th>Volume_(Currency)</th>\n",
              "      <th>Weighted_Price</th>\n",
              "    </tr>\n",
              "    <tr>\n",
              "      <th>Timestamp</th>\n",
              "      <th></th>\n",
              "      <th></th>\n",
              "      <th></th>\n",
              "      <th></th>\n",
              "      <th></th>\n",
              "      <th></th>\n",
              "      <th></th>\n",
              "    </tr>\n",
              "  </thead>\n",
              "  <tbody>\n",
              "    <tr>\n",
              "      <th>2011-12-31</th>\n",
              "      <td>4.476415</td>\n",
              "      <td>4.478946</td>\n",
              "      <td>4.476415</td>\n",
              "      <td>4.478946</td>\n",
              "      <td>17.940426</td>\n",
              "      <td>79.495594</td>\n",
              "      <td>4.477370</td>\n",
              "    </tr>\n",
              "    <tr>\n",
              "      <th>2012-01-31</th>\n",
              "      <td>6.205873</td>\n",
              "      <td>6.208926</td>\n",
              "      <td>6.203568</td>\n",
              "      <td>6.206636</td>\n",
              "      <td>5.062630</td>\n",
              "      <td>30.557645</td>\n",
              "      <td>6.205749</td>\n",
              "    </tr>\n",
              "    <tr>\n",
              "      <th>2012-02-29</th>\n",
              "      <td>5.239485</td>\n",
              "      <td>5.240140</td>\n",
              "      <td>5.237452</td>\n",
              "      <td>5.238107</td>\n",
              "      <td>8.246900</td>\n",
              "      <td>42.804255</td>\n",
              "      <td>5.238445</td>\n",
              "    </tr>\n",
              "    <tr>\n",
              "      <th>2012-03-31</th>\n",
              "      <td>4.956081</td>\n",
              "      <td>4.956802</td>\n",
              "      <td>4.950829</td>\n",
              "      <td>4.951425</td>\n",
              "      <td>13.496505</td>\n",
              "      <td>67.005496</td>\n",
              "      <td>4.954135</td>\n",
              "    </tr>\n",
              "    <tr>\n",
              "      <th>2012-04-30</th>\n",
              "      <td>4.980339</td>\n",
              "      <td>4.981768</td>\n",
              "      <td>4.978907</td>\n",
              "      <td>4.980228</td>\n",
              "      <td>18.311532</td>\n",
              "      <td>90.911425</td>\n",
              "      <td>4.980298</td>\n",
              "    </tr>\n",
              "  </tbody>\n",
              "</table>\n",
              "</div>"
            ],
            "text/plain": [
              "                Open      High  ...  Volume_(Currency)  Weighted_Price\n",
              "Timestamp                       ...                                   \n",
              "2011-12-31  4.476415  4.478946  ...          79.495594        4.477370\n",
              "2012-01-31  6.205873  6.208926  ...          30.557645        6.205749\n",
              "2012-02-29  5.239485  5.240140  ...          42.804255        5.238445\n",
              "2012-03-31  4.956081  4.956802  ...          67.005496        4.954135\n",
              "2012-04-30  4.980339  4.981768  ...          90.911425        4.980298\n",
              "\n",
              "[5 rows x 7 columns]"
            ]
          },
          "metadata": {
            "tags": []
          },
          "execution_count": 202
        }
      ]
    },
    {
      "cell_type": "markdown",
      "metadata": {
        "id": "lPVBTiEWqrhV"
      },
      "source": [
        "# **Distribuita pretului mediu pe ani**\r\n",
        "\r\n"
      ]
    },
    {
      "cell_type": "code",
      "metadata": {
        "id": "ztg3pl3Zs7XB"
      },
      "source": [
        "plt.rcParams[\"figure.figsize\"] = (20,10)"
      ],
      "execution_count": null,
      "outputs": []
    },
    {
      "cell_type": "code",
      "metadata": {
        "colab": {
          "base_uri": "https://localhost:8080/",
          "height": 605
        },
        "id": "U8MytxCWk5k5",
        "outputId": "ced9b16d-2f5b-4d03-c8ae-8135d774b3d9"
      },
      "source": [
        "plt.scatter(df_daily['tmp'],df_daily['Weighted_Price'],linewidths=0.0001)"
      ],
      "execution_count": null,
      "outputs": [
        {
          "output_type": "execute_result",
          "data": {
            "text/plain": [
              "<matplotlib.collections.PathCollection at 0x7f1c1b5d2810>"
            ]
          },
          "metadata": {
            "tags": []
          },
          "execution_count": 191
        },
        {
          "output_type": "display_data",
          "data": {
            "image/png": "[encoded data removed]",
            "text/plain": [
              "<Figure size 1440x720 with 1 Axes>"
            ]
          },
          "metadata": {
            "tags": []
          }
        }
      ]
    },
    {
      "cell_type": "code",
      "metadata": {
        "colab": {
          "base_uri": "https://localhost:8080/",
          "height": 605
        },
        "id": "3fhNTOXasjdY",
        "outputId": "f3a01277-394b-4bfb-bf3c-8c5383f43ab9"
      },
      "source": [
        "plt.fill_between(df_daily['tmp'],df_daily['Weighted_Price'])"
      ],
      "execution_count": null,
      "outputs": [
        {
          "output_type": "execute_result",
          "data": {
            "text/plain": [
              "<matplotlib.collections.PolyCollection at 0x7f1c163abdd0>"
            ]
          },
          "metadata": {
            "tags": []
          },
          "execution_count": 192
        },
        {
          "output_type": "display_data",
          "data": {
            "image/png": "[encoded data removed]",
            "text/plain": [
              "<Figure size 1440x720 with 1 Axes>"
            ]
          },
          "metadata": {
            "tags": []
          }
        }
      ]
    },
    {
      "cell_type": "markdown",
      "metadata": {
        "id": "ym2OFnNXurM4"
      },
      "source": [
        "# **Numarul de monede tranzactionate(Volumul) pe ani**"
      ]
    },
    {
      "cell_type": "code",
      "metadata": {
        "id": "JZ1_pKvTrdSt"
      },
      "source": [
        "import seaborn as sns"
      ],
      "execution_count": null,
      "outputs": []
    },
    {
      "cell_type": "code",
      "metadata": {
        "colab": {
          "base_uri": "https://localhost:8080/",
          "height": 673
        },
        "id": "N2g1KwjIrepq",
        "outputId": "7f0a3076-d7cd-4034-dbe1-a1ef7cb9ccc1"
      },
      "source": [
        "sns.kdeplot(df_daily['tmp'],df_daily['Volume_(BTC)'], shade = True)"
      ],
      "execution_count": null,
      "outputs": [
        {
          "output_type": "stream",
          "text": [
            "/usr/local/lib/python3.7/dist-packages/seaborn/_decorators.py:43: FutureWarning: Pass the following variable as a keyword arg: y. From version 0.12, the only valid positional argument will be `data`, and passing other arguments without an explicit keyword will result in an error or misinterpretation.\n",
            "  FutureWarning\n"
          ],
          "name": "stderr"
        },
        {
          "output_type": "execute_result",
          "data": {
            "text/plain": [
              "<matplotlib.axes._subplots.AxesSubplot at 0x7f1c16379550>"
            ]
          },
          "metadata": {
            "tags": []
          },
          "execution_count": 194
        },
        {
          "output_type": "display_data",
          "data": {
            "image/png": "[encoded data removed]",
            "text/plain": [
              "<Figure size 1440x720 with 1 Axes>"
            ]
          },
          "metadata": {
            "tags": []
          }
        }
      ]
    },
    {
      "cell_type": "markdown",
      "metadata": {
        "id": "JXwuca6Gu1cT"
      },
      "source": [
        "# **Prezicerea pretului folosin Linear Regression**"
      ]
    },
    {
      "cell_type": "code",
      "metadata": {
        "colab": {
          "base_uri": "https://localhost:8080/"
        },
        "id": "RGKC0c3FyZfG",
        "outputId": "cb1ae8ad-fd8e-4464-e55e-ceee08459e91"
      },
      "source": [
        "df_daily.index"
      ],
      "execution_count": null,
      "outputs": [
        {
          "output_type": "execute_result",
          "data": {
            "text/plain": [
              "DatetimeIndex(['2011-12-31', '2012-01-01', '2012-01-02', '2012-01-03',\n",
              "               '2012-01-04', '2012-01-05', '2012-01-06', '2012-01-07',\n",
              "               '2012-01-08', '2012-01-09',\n",
              "               ...\n",
              "               '2020-12-22', '2020-12-23', '2020-12-24', '2020-12-25',\n",
              "               '2020-12-26', '2020-12-27', '2020-12-28', '2020-12-29',\n",
              "               '2020-12-30', '2020-12-31'],\n",
              "              dtype='datetime64[ns]', name='Timestamp', length=3286, freq=None)"
            ]
          },
          "metadata": {
            "tags": []
          },
          "execution_count": 218
        }
      ]
    },
    {
      "cell_type": "code",
      "metadata": {
        "id": "I4X7ak0DzHhi"
      },
      "source": [
        "dff = df.reset_index()"
      ],
      "execution_count": null,
      "outputs": []
    },
    {
      "cell_type": "code",
      "metadata": {
        "colab": {
          "base_uri": "https://localhost:8080/"
        },
        "id": "L-Br98Pot7nY",
        "outputId": "5c6d8697-7942-4189-811e-f384a71cc739"
      },
      "source": [
        "from sklearn.linear_model import LinearRegression as lr\r\n",
        "\r\n",
        "model1 = lr(copy_X = True, fit_intercept=True, normalize=True)\r\n",
        "\r\n",
        "# X trebuie redimensionat \r\n",
        "X1 = dff.index.values.reshape(-1,1)\r\n",
        "y1 = dff['Weighted_Price']\r\n",
        "# X=df_daily['tmp'].map(df_daily.datetime.toordinal)\r\n",
        "\r\n",
        "m1 = model1.fit(X1,y1)\r\n",
        "print(type(X1))\r\n",
        "print(type(y1))\r\n",
        "\r\n",
        "print(m1.coef_)\r\n",
        "z1 = model1.predict(X1)"
      ],
      "execution_count": 266,
      "outputs": [
        {
          "output_type": "stream",
          "text": [
            "<class 'numpy.ndarray'>\n",
            "<class 'pandas.core.series.Series'>\n",
            "[0.00266677]\n"
          ],
          "name": "stdout"
        }
      ]
    },
    {
      "cell_type": "code",
      "metadata": {
        "colab": {
          "base_uri": "https://localhost:8080/",
          "height": 457
        },
        "id": "ImOMyFKo9pmw",
        "outputId": "46a22377-2b07-4173-a53a-c2b183acc851"
      },
      "source": [
        "plt.scatter(X1,y1)\r\n",
        "plt.plot(X1,z1,color='red')"
      ],
      "execution_count": 267,
      "outputs": [
        {
          "output_type": "execute_result",
          "data": {
            "text/plain": [
              "[<matplotlib.lines.Line2D at 0x7f1c1595ae50>]"
            ]
          },
          "metadata": {
            "tags": []
          },
          "execution_count": 267
        },
        {
          "output_type": "display_data",
          "data": {
            "image/png": "[encoded data removed]",
            "text/plain": [
              "<Figure size 1440x720 with 1 Axes>"
            ]
          },
          "metadata": {
            "tags": []
          }
        }
      ]
    },
    {
      "cell_type": "code",
      "metadata": {
        "colab": {
          "base_uri": "https://localhost:8080/"
        },
        "id": "qjo--qKu0nZp",
        "outputId": "ce338a00-72a9-4744-e36d-c873df4755ac"
      },
      "source": [
        "from sklearn.linear_model import LinearRegression as lr\r\n",
        "\r\n",
        "model2 = lr(copy_X = True, fit_intercept=True, normalize=True)\r\n",
        "\r\n",
        "# X trebuie redimensionat \r\n",
        "# X = dff['Volume_(BTC)'].values.reshape(-1,1)\r\n",
        "# y = dff['Weighted_Price']\r\n",
        "X2 = dff['Weighted_Price'].values.reshape(-1,1)\r\n",
        "y2 = dff['Volume_(BTC)']\r\n",
        "# X=df_daily['tmp'].map(df_daily.datetime.toordinal)\r\n",
        "\r\n",
        "m2 = model2.fit(X2,y2)\r\n",
        "print(type(X2))\r\n",
        "print(type(y2))\r\n",
        "\r\n",
        "print(m2.coef_)\r\n",
        "z2 = model2.predict(X2)"
      ],
      "execution_count": 264,
      "outputs": [
        {
          "output_type": "stream",
          "text": [
            "<class 'numpy.ndarray'>\n",
            "<class 'pandas.core.series.Series'>\n",
            "[-0.00042744]\n"
          ],
          "name": "stdout"
        }
      ]
    },
    {
      "cell_type": "code",
      "metadata": {
        "colab": {
          "base_uri": "https://localhost:8080/",
          "height": 450
        },
        "id": "oTM1ujwS9lpd",
        "outputId": "8631b896-ba70-4368-e1b3-6ab89155aad0"
      },
      "source": [
        "plt.scatter(X2,y2)\r\n",
        "plt.plot(X2,z2,color='red')"
      ],
      "execution_count": 265,
      "outputs": [
        {
          "output_type": "execute_result",
          "data": {
            "text/plain": [
              "[<matplotlib.lines.Line2D at 0x7f1c15972c50>]"
            ]
          },
          "metadata": {
            "tags": []
          },
          "execution_count": 265
        },
        {
          "output_type": "display_data",
          "data": {
            "image/png": "[encoded data removed]",
            "text/plain": [
              "<Figure size 1440x720 with 1 Axes>"
            ]
          },
          "metadata": {
            "tags": []
          }
        }
      ]
    },
    {
      "cell_type": "code",
      "metadata": {
        "colab": {
          "base_uri": "https://localhost:8080/"
        },
        "id": "T_tm4CE11hDo",
        "outputId": "323d28e8-450e-469d-f41d-60bd39057a37"
      },
      "source": [
        "model3 = lr(copy_X = True, fit_intercept=True, normalize=False)\r\n",
        "dff_yearly = df_yearly.reset_index()\r\n",
        "# X trebuie redimensionat \r\n",
        "X3 = dff.index[:,None]\r\n",
        "y3 = dff['Volume_(BTC)']\r\n",
        "# X=df_daily['tmp'].map(df_daily.datetime.toordinal)\r\n",
        "\r\n",
        "m3 = model3.fit(X3,y3)\r\n",
        "print(type(X3))\r\n",
        "print(type(y3))\r\n",
        "\r\n",
        "print(m3.coef_)\r\n",
        "z3 = model3.predict(X3)"
      ],
      "execution_count": 262,
      "outputs": [
        {
          "output_type": "stream",
          "text": [
            "/usr/local/lib/python3.7/dist-packages/pandas/core/indexes/range.py:720: FutureWarning: Support for multi-dimensional indexing (e.g. `obj[:, None]`) is deprecated and will be removed in a future version.  Convert to a numpy array before indexing instead.\n",
            "  return super().__getitem__(key)\n"
          ],
          "name": "stderr"
        },
        {
          "output_type": "stream",
          "text": [
            "<class 'numpy.ndarray'>\n",
            "<class 'pandas.core.series.Series'>\n",
            "[-2.35836e-06]\n"
          ],
          "name": "stdout"
        }
      ]
    },
    {
      "cell_type": "code",
      "metadata": {
        "colab": {
          "base_uri": "https://localhost:8080/",
          "height": 459
        },
        "id": "h0-uGdmj9aKw",
        "outputId": "00cfe3ce-0305-404b-b8b9-cc49b633f0a2"
      },
      "source": [
        "plt.scatter(X3,y3)\r\n",
        "plt.plot(X3,z3,color='red')"
      ],
      "execution_count": 263,
      "outputs": [
        {
          "output_type": "execute_result",
          "data": {
            "text/plain": [
              "[<matplotlib.lines.Line2D at 0x7f1c15a11d10>]"
            ]
          },
          "metadata": {
            "tags": []
          },
          "execution_count": 263
        },
        {
          "output_type": "display_data",
          "data": {
            "image/png": "[encoded data removed]",
            "text/plain": [
              "<Figure size 1440x720 with 1 Axes>"
            ]
          },
          "metadata": {
            "tags": []
          }
        }
      ]
    },
    {
      "cell_type": "code",
      "metadata": {
        "colab": {
          "base_uri": "https://localhost:8080/"
        },
        "id": "GtyTWmq-26FQ",
        "outputId": "43a2b7e3-29d0-42a9-98b9-f92919dead40"
      },
      "source": [
        "model4 = lr(copy_X = True, fit_intercept=True, normalize=False)\r\n",
        "dff_yearly = df_yearly.reset_index()\r\n",
        "# X trebuie redimensionat \r\n",
        "y4 = dff['Volume_(BTC)']\r\n",
        "X4 = dff['Volume_(Currency)'][:,None]\r\n",
        "# X=df_daily['tmp'].map(df_daily.datetime.toordinal)\r\n",
        "\r\n",
        "m4 = model4.fit(X4,y4)\r\n",
        "print(type(X4))\r\n",
        "print(type(y4))\r\n",
        "\r\n",
        "print(m4.coef_)\r\n",
        "z4 = model4.predict(X4)"
      ],
      "execution_count": 248,
      "outputs": [
        {
          "output_type": "stream",
          "text": [
            "/usr/local/lib/python3.7/dist-packages/ipykernel_launcher.py:5: FutureWarning: Support for multi-dimensional indexing (e.g. `obj[:, None]`) is deprecated and will be removed in a future version.  Convert to a numpy array before indexing instead.\n",
            "  \"\"\"\n"
          ],
          "name": "stderr"
        },
        {
          "output_type": "stream",
          "text": [
            "<class 'numpy.ndarray'>\n",
            "<class 'pandas.core.series.Series'>\n",
            "[0.00011494]\n"
          ],
          "name": "stdout"
        }
      ]
    },
    {
      "cell_type": "code",
      "metadata": {
        "colab": {
          "base_uri": "https://localhost:8080/",
          "height": 459
        },
        "id": "Y1C0FphSt_RT",
        "outputId": "7dbeb6f1-fa59-4ae5-cb93-b4c063a82027"
      },
      "source": [
        "plt.scatter(X4,y4)\r\n",
        "plt.plot(X4,z4,color='red')"
      ],
      "execution_count": 249,
      "outputs": [
        {
          "output_type": "execute_result",
          "data": {
            "text/plain": [
              "[<matplotlib.lines.Line2D at 0x7f1c15e3c690>]"
            ]
          },
          "metadata": {
            "tags": []
          },
          "execution_count": 249
        },
        {
          "output_type": "display_data",
          "data": {
            "image/png": "[encoded data removed]",
            "text/plain": [
              "<Figure size 1440x720 with 1 Axes>"
            ]
          },
          "metadata": {
            "tags": []
          }
        }
      ]
    }
  ]
}